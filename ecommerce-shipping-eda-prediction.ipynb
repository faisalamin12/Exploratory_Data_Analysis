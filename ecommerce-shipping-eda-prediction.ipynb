{
 "cells": [
  {
   "cell_type": "markdown",
   "id": "informed-property",
   "metadata": {
    "papermill": {
     "duration": 0.040332,
     "end_time": "2021-05-24T13:44:28.548708",
     "exception": false,
     "start_time": "2021-05-24T13:44:28.508376",
     "status": "completed"
    },
    "tags": []
   },
   "source": [
    "# Prediction of on time delivery of products"
   ]
  },
  {
   "cell_type": "code",
   "execution_count": 1,
   "id": "strategic-section",
   "metadata": {
    "_cell_guid": "b1076dfc-b9ad-4769-8c92-a6c4dae69d19",
    "_uuid": "8f2839f25d086af736a60e9eeb907d3b93b6e0e5",
    "execution": {
     "iopub.execute_input": "2021-05-24T13:44:28.644445Z",
     "iopub.status.busy": "2021-05-24T13:44:28.643675Z",
     "iopub.status.idle": "2021-05-24T13:44:36.369262Z",
     "shell.execute_reply": "2021-05-24T13:44:36.369797Z",
     "shell.execute_reply.started": "2021-05-24T12:40:21.209655Z"
    },
    "papermill": {
     "duration": 7.783145,
     "end_time": "2021-05-24T13:44:36.370130",
     "exception": false,
     "start_time": "2021-05-24T13:44:28.586985",
     "status": "completed"
    },
    "tags": []
   },
   "outputs": [],
   "source": [
    "#Importing required libraries\n",
    "\n",
    "import numpy as np # linear algebra\n",
    "import pandas as pd # data processing, CSV file I/O (e.g. pd.read_csv)\n",
    "import seaborn as sns\n",
    "import matplotlib.pyplot as plt\n",
    "from sklearn.preprocessing import LabelEncoder , StandardScaler, MinMaxScaler\n",
    "from sklearn.model_selection import train_test_split, GridSearchCV\n",
    "from sklearn import svm\n",
    "from sklearn.ensemble import RandomForestClassifier\n",
    "import xgboost as xgb\n",
    "from keras.models import Sequential\n",
    "from keras.layers import Dense\n",
    "from sklearn.linear_model import LogisticRegression\n",
    "from sklearn.metrics import accuracy_score, confusion_matrix, classification_report\n",
    "from sklearn.feature_selection import chi2\n",
    "from scipy.stats import chi2_contingency\n",
    "\n"
   ]
  },
  {
   "cell_type": "code",
   "execution_count": 2,
   "id": "encouraging-three",
   "metadata": {
    "execution": {
     "iopub.execute_input": "2021-05-24T13:44:36.458141Z",
     "iopub.status.busy": "2021-05-24T13:44:36.457157Z",
     "iopub.status.idle": "2021-05-24T13:44:36.534071Z",
     "shell.execute_reply": "2021-05-24T13:44:36.534635Z",
     "shell.execute_reply.started": "2021-05-24T12:40:28.690388Z"
    },
    "papermill": {
     "duration": 0.122967,
     "end_time": "2021-05-24T13:44:36.534824",
     "exception": false,
     "start_time": "2021-05-24T13:44:36.411857",
     "status": "completed"
    },
    "tags": []
   },
   "outputs": [
    {
     "data": {
      "text/html": [
       "<div>\n",
       "<style scoped>\n",
       "    .dataframe tbody tr th:only-of-type {\n",
       "        vertical-align: middle;\n",
       "    }\n",
       "\n",
       "    .dataframe tbody tr th {\n",
       "        vertical-align: top;\n",
       "    }\n",
       "\n",
       "    .dataframe thead th {\n",
       "        text-align: right;\n",
       "    }\n",
       "</style>\n",
       "<table border=\"1\" class=\"dataframe\">\n",
       "  <thead>\n",
       "    <tr style=\"text-align: right;\">\n",
       "      <th></th>\n",
       "      <th>ID</th>\n",
       "      <th>Warehouse_block</th>\n",
       "      <th>Mode_of_Shipment</th>\n",
       "      <th>Customer_care_calls</th>\n",
       "      <th>Customer_rating</th>\n",
       "      <th>Cost_of_the_Product</th>\n",
       "      <th>Prior_purchases</th>\n",
       "      <th>Product_importance</th>\n",
       "      <th>Gender</th>\n",
       "      <th>Discount_offered</th>\n",
       "      <th>Weight_in_gms</th>\n",
       "      <th>Reached.on.Time_Y.N</th>\n",
       "    </tr>\n",
       "  </thead>\n",
       "  <tbody>\n",
       "    <tr>\n",
       "      <th>0</th>\n",
       "      <td>1</td>\n",
       "      <td>D</td>\n",
       "      <td>Flight</td>\n",
       "      <td>4</td>\n",
       "      <td>2</td>\n",
       "      <td>177</td>\n",
       "      <td>3</td>\n",
       "      <td>low</td>\n",
       "      <td>F</td>\n",
       "      <td>44</td>\n",
       "      <td>1233</td>\n",
       "      <td>1</td>\n",
       "    </tr>\n",
       "    <tr>\n",
       "      <th>1</th>\n",
       "      <td>2</td>\n",
       "      <td>F</td>\n",
       "      <td>Flight</td>\n",
       "      <td>4</td>\n",
       "      <td>5</td>\n",
       "      <td>216</td>\n",
       "      <td>2</td>\n",
       "      <td>low</td>\n",
       "      <td>M</td>\n",
       "      <td>59</td>\n",
       "      <td>3088</td>\n",
       "      <td>1</td>\n",
       "    </tr>\n",
       "    <tr>\n",
       "      <th>2</th>\n",
       "      <td>3</td>\n",
       "      <td>A</td>\n",
       "      <td>Flight</td>\n",
       "      <td>2</td>\n",
       "      <td>2</td>\n",
       "      <td>183</td>\n",
       "      <td>4</td>\n",
       "      <td>low</td>\n",
       "      <td>M</td>\n",
       "      <td>48</td>\n",
       "      <td>3374</td>\n",
       "      <td>1</td>\n",
       "    </tr>\n",
       "    <tr>\n",
       "      <th>3</th>\n",
       "      <td>4</td>\n",
       "      <td>B</td>\n",
       "      <td>Flight</td>\n",
       "      <td>3</td>\n",
       "      <td>3</td>\n",
       "      <td>176</td>\n",
       "      <td>4</td>\n",
       "      <td>medium</td>\n",
       "      <td>M</td>\n",
       "      <td>10</td>\n",
       "      <td>1177</td>\n",
       "      <td>1</td>\n",
       "    </tr>\n",
       "    <tr>\n",
       "      <th>4</th>\n",
       "      <td>5</td>\n",
       "      <td>C</td>\n",
       "      <td>Flight</td>\n",
       "      <td>2</td>\n",
       "      <td>2</td>\n",
       "      <td>184</td>\n",
       "      <td>3</td>\n",
       "      <td>medium</td>\n",
       "      <td>F</td>\n",
       "      <td>46</td>\n",
       "      <td>2484</td>\n",
       "      <td>1</td>\n",
       "    </tr>\n",
       "  </tbody>\n",
       "</table>\n",
       "</div>"
      ],
      "text/plain": [
       "   ID Warehouse_block Mode_of_Shipment  Customer_care_calls  Customer_rating  \\\n",
       "0   1               D           Flight                    4                2   \n",
       "1   2               F           Flight                    4                5   \n",
       "2   3               A           Flight                    2                2   \n",
       "3   4               B           Flight                    3                3   \n",
       "4   5               C           Flight                    2                2   \n",
       "\n",
       "   Cost_of_the_Product  Prior_purchases Product_importance Gender  \\\n",
       "0                  177                3                low      F   \n",
       "1                  216                2                low      M   \n",
       "2                  183                4                low      M   \n",
       "3                  176                4             medium      M   \n",
       "4                  184                3             medium      F   \n",
       "\n",
       "   Discount_offered  Weight_in_gms  Reached.on.Time_Y.N  \n",
       "0                44           1233                    1  \n",
       "1                59           3088                    1  \n",
       "2                48           3374                    1  \n",
       "3                10           1177                    1  \n",
       "4                46           2484                    1  "
      ]
     },
     "execution_count": 2,
     "metadata": {},
     "output_type": "execute_result"
    }
   ],
   "source": [
    "#Reading the dataset\n",
    "dataset = pd.read_csv('/kaggle/input/customer-analytics/Train.csv')\n",
    "dataset.head()"
   ]
  },
  {
   "cell_type": "markdown",
   "id": "inappropriate-remedy",
   "metadata": {
    "papermill": {
     "duration": 0.041907,
     "end_time": "2021-05-24T13:44:36.616222",
     "exception": false,
     "start_time": "2021-05-24T13:44:36.574315",
     "status": "completed"
    },
    "tags": []
   },
   "source": [
    "# Data Profiling"
   ]
  },
  {
   "cell_type": "code",
   "execution_count": 3,
   "id": "relative-tourist",
   "metadata": {
    "execution": {
     "iopub.execute_input": "2021-05-24T13:44:36.701326Z",
     "iopub.status.busy": "2021-05-24T13:44:36.700629Z",
     "iopub.status.idle": "2021-05-24T13:44:36.706764Z",
     "shell.execute_reply": "2021-05-24T13:44:36.706046Z",
     "shell.execute_reply.started": "2021-05-24T12:40:28.765435Z"
    },
    "papermill": {
     "duration": 0.050223,
     "end_time": "2021-05-24T13:44:36.706916",
     "exception": false,
     "start_time": "2021-05-24T13:44:36.656693",
     "status": "completed"
    },
    "tags": []
   },
   "outputs": [
    {
     "data": {
      "text/plain": [
       "(10999, 12)"
      ]
     },
     "execution_count": 3,
     "metadata": {},
     "output_type": "execute_result"
    }
   ],
   "source": [
    "# Shape of the dataset\n",
    "dataset.shape"
   ]
  },
  {
   "cell_type": "code",
   "execution_count": 4,
   "id": "sublime-intervention",
   "metadata": {
    "execution": {
     "iopub.execute_input": "2021-05-24T13:44:36.793769Z",
     "iopub.status.busy": "2021-05-24T13:44:36.792807Z",
     "iopub.status.idle": "2021-05-24T13:44:36.818640Z",
     "shell.execute_reply": "2021-05-24T13:44:36.819183Z",
     "shell.execute_reply.started": "2021-05-24T12:40:28.775252Z"
    },
    "papermill": {
     "duration": 0.072162,
     "end_time": "2021-05-24T13:44:36.819359",
     "exception": false,
     "start_time": "2021-05-24T13:44:36.747197",
     "status": "completed"
    },
    "tags": []
   },
   "outputs": [
    {
     "name": "stdout",
     "output_type": "stream",
     "text": [
      "<class 'pandas.core.frame.DataFrame'>\n",
      "RangeIndex: 10999 entries, 0 to 10998\n",
      "Data columns (total 12 columns):\n",
      " #   Column               Non-Null Count  Dtype \n",
      "---  ------               --------------  ----- \n",
      " 0   ID                   10999 non-null  int64 \n",
      " 1   Warehouse_block      10999 non-null  object\n",
      " 2   Mode_of_Shipment     10999 non-null  object\n",
      " 3   Customer_care_calls  10999 non-null  int64 \n",
      " 4   Customer_rating      10999 non-null  int64 \n",
      " 5   Cost_of_the_Product  10999 non-null  int64 \n",
      " 6   Prior_purchases      10999 non-null  int64 \n",
      " 7   Product_importance   10999 non-null  object\n",
      " 8   Gender               10999 non-null  object\n",
      " 9   Discount_offered     10999 non-null  int64 \n",
      " 10  Weight_in_gms        10999 non-null  int64 \n",
      " 11  Reached.on.Time_Y.N  10999 non-null  int64 \n",
      "dtypes: int64(8), object(4)\n",
      "memory usage: 1.0+ MB\n"
     ]
    }
   ],
   "source": [
    "#Information about the columns\n",
    "dataset.info()"
   ]
  },
  {
   "cell_type": "code",
   "execution_count": 5,
   "id": "purple-configuration",
   "metadata": {
    "execution": {
     "iopub.execute_input": "2021-05-24T13:44:36.905458Z",
     "iopub.status.busy": "2021-05-24T13:44:36.904466Z",
     "iopub.status.idle": "2021-05-24T13:44:36.916584Z",
     "shell.execute_reply": "2021-05-24T13:44:36.917064Z",
     "shell.execute_reply.started": "2021-05-24T12:40:28.809889Z"
    },
    "papermill": {
     "duration": 0.056615,
     "end_time": "2021-05-24T13:44:36.917249",
     "exception": false,
     "start_time": "2021-05-24T13:44:36.860634",
     "status": "completed"
    },
    "tags": []
   },
   "outputs": [
    {
     "data": {
      "text/plain": [
       "ID                     0\n",
       "Warehouse_block        0\n",
       "Mode_of_Shipment       0\n",
       "Customer_care_calls    0\n",
       "Customer_rating        0\n",
       "Cost_of_the_Product    0\n",
       "Prior_purchases        0\n",
       "Product_importance     0\n",
       "Gender                 0\n",
       "Discount_offered       0\n",
       "Weight_in_gms          0\n",
       "Reached.on.Time_Y.N    0\n",
       "dtype: int64"
      ]
     },
     "execution_count": 5,
     "metadata": {},
     "output_type": "execute_result"
    }
   ],
   "source": [
    "#Checking if there is any null values in the dataset\n",
    "dataset.isnull().sum()"
   ]
  },
  {
   "cell_type": "markdown",
   "id": "documentary-argument",
   "metadata": {
    "papermill": {
     "duration": 0.04078,
     "end_time": "2021-05-24T13:44:36.998748",
     "exception": false,
     "start_time": "2021-05-24T13:44:36.957968",
     "status": "completed"
    },
    "tags": []
   },
   "source": [
    "**Observations:**\n",
    "* No missing values in the dataset"
   ]
  },
  {
   "cell_type": "code",
   "execution_count": 6,
   "id": "musical-recruitment",
   "metadata": {
    "execution": {
     "iopub.execute_input": "2021-05-24T13:44:37.081918Z",
     "iopub.status.busy": "2021-05-24T13:44:37.080888Z",
     "iopub.status.idle": "2021-05-24T13:44:37.121470Z",
     "shell.execute_reply": "2021-05-24T13:44:37.121990Z",
     "shell.execute_reply.started": "2021-05-24T12:40:28.825858Z"
    },
    "papermill": {
     "duration": 0.083541,
     "end_time": "2021-05-24T13:44:37.122168",
     "exception": false,
     "start_time": "2021-05-24T13:44:37.038627",
     "status": "completed"
    },
    "tags": []
   },
   "outputs": [
    {
     "data": {
      "text/html": [
       "<div>\n",
       "<style scoped>\n",
       "    .dataframe tbody tr th:only-of-type {\n",
       "        vertical-align: middle;\n",
       "    }\n",
       "\n",
       "    .dataframe tbody tr th {\n",
       "        vertical-align: top;\n",
       "    }\n",
       "\n",
       "    .dataframe thead th {\n",
       "        text-align: right;\n",
       "    }\n",
       "</style>\n",
       "<table border=\"1\" class=\"dataframe\">\n",
       "  <thead>\n",
       "    <tr style=\"text-align: right;\">\n",
       "      <th></th>\n",
       "      <th>ID</th>\n",
       "      <th>Customer_care_calls</th>\n",
       "      <th>Customer_rating</th>\n",
       "      <th>Cost_of_the_Product</th>\n",
       "      <th>Prior_purchases</th>\n",
       "      <th>Discount_offered</th>\n",
       "      <th>Weight_in_gms</th>\n",
       "      <th>Reached.on.Time_Y.N</th>\n",
       "    </tr>\n",
       "  </thead>\n",
       "  <tbody>\n",
       "    <tr>\n",
       "      <th>count</th>\n",
       "      <td>10999.00000</td>\n",
       "      <td>10999.000000</td>\n",
       "      <td>10999.000000</td>\n",
       "      <td>10999.000000</td>\n",
       "      <td>10999.000000</td>\n",
       "      <td>10999.000000</td>\n",
       "      <td>10999.000000</td>\n",
       "      <td>10999.000000</td>\n",
       "    </tr>\n",
       "    <tr>\n",
       "      <th>mean</th>\n",
       "      <td>5500.00000</td>\n",
       "      <td>4.054459</td>\n",
       "      <td>2.990545</td>\n",
       "      <td>210.196836</td>\n",
       "      <td>3.567597</td>\n",
       "      <td>13.373216</td>\n",
       "      <td>3634.016729</td>\n",
       "      <td>0.596691</td>\n",
       "    </tr>\n",
       "    <tr>\n",
       "      <th>std</th>\n",
       "      <td>3175.28214</td>\n",
       "      <td>1.141490</td>\n",
       "      <td>1.413603</td>\n",
       "      <td>48.063272</td>\n",
       "      <td>1.522860</td>\n",
       "      <td>16.205527</td>\n",
       "      <td>1635.377251</td>\n",
       "      <td>0.490584</td>\n",
       "    </tr>\n",
       "    <tr>\n",
       "      <th>min</th>\n",
       "      <td>1.00000</td>\n",
       "      <td>2.000000</td>\n",
       "      <td>1.000000</td>\n",
       "      <td>96.000000</td>\n",
       "      <td>2.000000</td>\n",
       "      <td>1.000000</td>\n",
       "      <td>1001.000000</td>\n",
       "      <td>0.000000</td>\n",
       "    </tr>\n",
       "    <tr>\n",
       "      <th>25%</th>\n",
       "      <td>2750.50000</td>\n",
       "      <td>3.000000</td>\n",
       "      <td>2.000000</td>\n",
       "      <td>169.000000</td>\n",
       "      <td>3.000000</td>\n",
       "      <td>4.000000</td>\n",
       "      <td>1839.500000</td>\n",
       "      <td>0.000000</td>\n",
       "    </tr>\n",
       "    <tr>\n",
       "      <th>50%</th>\n",
       "      <td>5500.00000</td>\n",
       "      <td>4.000000</td>\n",
       "      <td>3.000000</td>\n",
       "      <td>214.000000</td>\n",
       "      <td>3.000000</td>\n",
       "      <td>7.000000</td>\n",
       "      <td>4149.000000</td>\n",
       "      <td>1.000000</td>\n",
       "    </tr>\n",
       "    <tr>\n",
       "      <th>75%</th>\n",
       "      <td>8249.50000</td>\n",
       "      <td>5.000000</td>\n",
       "      <td>4.000000</td>\n",
       "      <td>251.000000</td>\n",
       "      <td>4.000000</td>\n",
       "      <td>10.000000</td>\n",
       "      <td>5050.000000</td>\n",
       "      <td>1.000000</td>\n",
       "    </tr>\n",
       "    <tr>\n",
       "      <th>max</th>\n",
       "      <td>10999.00000</td>\n",
       "      <td>7.000000</td>\n",
       "      <td>5.000000</td>\n",
       "      <td>310.000000</td>\n",
       "      <td>10.000000</td>\n",
       "      <td>65.000000</td>\n",
       "      <td>7846.000000</td>\n",
       "      <td>1.000000</td>\n",
       "    </tr>\n",
       "  </tbody>\n",
       "</table>\n",
       "</div>"
      ],
      "text/plain": [
       "                ID  Customer_care_calls  Customer_rating  Cost_of_the_Product  \\\n",
       "count  10999.00000         10999.000000     10999.000000         10999.000000   \n",
       "mean    5500.00000             4.054459         2.990545           210.196836   \n",
       "std     3175.28214             1.141490         1.413603            48.063272   \n",
       "min        1.00000             2.000000         1.000000            96.000000   \n",
       "25%     2750.50000             3.000000         2.000000           169.000000   \n",
       "50%     5500.00000             4.000000         3.000000           214.000000   \n",
       "75%     8249.50000             5.000000         4.000000           251.000000   \n",
       "max    10999.00000             7.000000         5.000000           310.000000   \n",
       "\n",
       "       Prior_purchases  Discount_offered  Weight_in_gms  Reached.on.Time_Y.N  \n",
       "count     10999.000000      10999.000000   10999.000000         10999.000000  \n",
       "mean          3.567597         13.373216    3634.016729             0.596691  \n",
       "std           1.522860         16.205527    1635.377251             0.490584  \n",
       "min           2.000000          1.000000    1001.000000             0.000000  \n",
       "25%           3.000000          4.000000    1839.500000             0.000000  \n",
       "50%           3.000000          7.000000    4149.000000             1.000000  \n",
       "75%           4.000000         10.000000    5050.000000             1.000000  \n",
       "max          10.000000         65.000000    7846.000000             1.000000  "
      ]
     },
     "execution_count": 6,
     "metadata": {},
     "output_type": "execute_result"
    }
   ],
   "source": [
    "#Basic summary statistics\n",
    "dataset.describe()"
   ]
  },
  {
   "cell_type": "markdown",
   "id": "turkish-bruce",
   "metadata": {
    "papermill": {
     "duration": 0.039691,
     "end_time": "2021-05-24T13:44:37.202441",
     "exception": false,
     "start_time": "2021-05-24T13:44:37.162750",
     "status": "completed"
    },
    "tags": []
   },
   "source": [
    "# Exploratory Data Analysis"
   ]
  },
  {
   "cell_type": "code",
   "execution_count": 7,
   "id": "convinced-collection",
   "metadata": {
    "execution": {
     "iopub.execute_input": "2021-05-24T13:44:37.298665Z",
     "iopub.status.busy": "2021-05-24T13:44:37.297797Z",
     "iopub.status.idle": "2021-05-24T13:44:37.301253Z",
     "shell.execute_reply": "2021-05-24T13:44:37.301750Z",
     "shell.execute_reply.started": "2021-05-24T12:40:28.878597Z"
    },
    "papermill": {
     "duration": 0.05845,
     "end_time": "2021-05-24T13:44:37.301918",
     "exception": false,
     "start_time": "2021-05-24T13:44:37.243468",
     "status": "completed"
    },
    "tags": []
   },
   "outputs": [
    {
     "data": {
      "text/html": [
       "<div>\n",
       "<style scoped>\n",
       "    .dataframe tbody tr th:only-of-type {\n",
       "        vertical-align: middle;\n",
       "    }\n",
       "\n",
       "    .dataframe tbody tr th {\n",
       "        vertical-align: top;\n",
       "    }\n",
       "\n",
       "    .dataframe thead th {\n",
       "        text-align: right;\n",
       "    }\n",
       "</style>\n",
       "<table border=\"1\" class=\"dataframe\">\n",
       "  <thead>\n",
       "    <tr style=\"text-align: right;\">\n",
       "      <th></th>\n",
       "      <th>ID</th>\n",
       "      <th>Warehouse_block</th>\n",
       "      <th>Mode_of_Shipment</th>\n",
       "      <th>Customer_care_calls</th>\n",
       "      <th>Customer_rating</th>\n",
       "      <th>Cost_of_the_Product</th>\n",
       "      <th>Prior_purchases</th>\n",
       "      <th>Product_importance</th>\n",
       "      <th>Gender</th>\n",
       "      <th>Discount_offered</th>\n",
       "      <th>Weight_in_gms</th>\n",
       "      <th>Reached.on.Time_Y.N</th>\n",
       "    </tr>\n",
       "  </thead>\n",
       "  <tbody>\n",
       "    <tr>\n",
       "      <th>0</th>\n",
       "      <td>1</td>\n",
       "      <td>D</td>\n",
       "      <td>Flight</td>\n",
       "      <td>4</td>\n",
       "      <td>2</td>\n",
       "      <td>177</td>\n",
       "      <td>3</td>\n",
       "      <td>low</td>\n",
       "      <td>F</td>\n",
       "      <td>44</td>\n",
       "      <td>1233</td>\n",
       "      <td>1</td>\n",
       "    </tr>\n",
       "    <tr>\n",
       "      <th>1</th>\n",
       "      <td>2</td>\n",
       "      <td>F</td>\n",
       "      <td>Flight</td>\n",
       "      <td>4</td>\n",
       "      <td>5</td>\n",
       "      <td>216</td>\n",
       "      <td>2</td>\n",
       "      <td>low</td>\n",
       "      <td>M</td>\n",
       "      <td>59</td>\n",
       "      <td>3088</td>\n",
       "      <td>1</td>\n",
       "    </tr>\n",
       "    <tr>\n",
       "      <th>2</th>\n",
       "      <td>3</td>\n",
       "      <td>A</td>\n",
       "      <td>Flight</td>\n",
       "      <td>2</td>\n",
       "      <td>2</td>\n",
       "      <td>183</td>\n",
       "      <td>4</td>\n",
       "      <td>low</td>\n",
       "      <td>M</td>\n",
       "      <td>48</td>\n",
       "      <td>3374</td>\n",
       "      <td>1</td>\n",
       "    </tr>\n",
       "    <tr>\n",
       "      <th>3</th>\n",
       "      <td>4</td>\n",
       "      <td>B</td>\n",
       "      <td>Flight</td>\n",
       "      <td>3</td>\n",
       "      <td>3</td>\n",
       "      <td>176</td>\n",
       "      <td>4</td>\n",
       "      <td>medium</td>\n",
       "      <td>M</td>\n",
       "      <td>10</td>\n",
       "      <td>1177</td>\n",
       "      <td>1</td>\n",
       "    </tr>\n",
       "    <tr>\n",
       "      <th>4</th>\n",
       "      <td>5</td>\n",
       "      <td>C</td>\n",
       "      <td>Flight</td>\n",
       "      <td>2</td>\n",
       "      <td>2</td>\n",
       "      <td>184</td>\n",
       "      <td>3</td>\n",
       "      <td>medium</td>\n",
       "      <td>F</td>\n",
       "      <td>46</td>\n",
       "      <td>2484</td>\n",
       "      <td>1</td>\n",
       "    </tr>\n",
       "  </tbody>\n",
       "</table>\n",
       "</div>"
      ],
      "text/plain": [
       "   ID Warehouse_block Mode_of_Shipment  Customer_care_calls  Customer_rating  \\\n",
       "0   1               D           Flight                    4                2   \n",
       "1   2               F           Flight                    4                5   \n",
       "2   3               A           Flight                    2                2   \n",
       "3   4               B           Flight                    3                3   \n",
       "4   5               C           Flight                    2                2   \n",
       "\n",
       "   Cost_of_the_Product  Prior_purchases Product_importance Gender  \\\n",
       "0                  177                3                low      F   \n",
       "1                  216                2                low      M   \n",
       "2                  183                4                low      M   \n",
       "3                  176                4             medium      M   \n",
       "4                  184                3             medium      F   \n",
       "\n",
       "   Discount_offered  Weight_in_gms  Reached.on.Time_Y.N  \n",
       "0                44           1233                    1  \n",
       "1                59           3088                    1  \n",
       "2                48           3374                    1  \n",
       "3                10           1177                    1  \n",
       "4                46           2484                    1  "
      ]
     },
     "execution_count": 7,
     "metadata": {},
     "output_type": "execute_result"
    }
   ],
   "source": [
    "dataset.head()"
   ]
  },
  {
   "cell_type": "code",
   "execution_count": 8,
   "id": "beautiful-mouth",
   "metadata": {
    "execution": {
     "iopub.execute_input": "2021-05-24T13:44:37.388328Z",
     "iopub.status.busy": "2021-05-24T13:44:37.387309Z",
     "iopub.status.idle": "2021-05-24T13:44:37.703402Z",
     "shell.execute_reply": "2021-05-24T13:44:37.702780Z",
     "shell.execute_reply.started": "2021-05-24T12:40:28.895951Z"
    },
    "papermill": {
     "duration": 0.360336,
     "end_time": "2021-05-24T13:44:37.703592",
     "exception": false,
     "start_time": "2021-05-24T13:44:37.343256",
     "status": "completed"
    },
    "tags": []
   },
   "outputs": [
    {
     "data": {
      "text/plain": [
       "([<matplotlib.patches.Wedge at 0x7f33c5daa310>,\n",
       "  <matplotlib.patches.Wedge at 0x7f33c8637ad0>],\n",
       " [Text(0.32902377754583456, 1.0496396304491695, '0'),\n",
       "  Text(-0.32902377754583423, -1.0496396304491697, '1')],\n",
       " [Text(0.17946751502500063, 0.5725307075177288, '40.33%'),\n",
       "  Text(-0.17946751502500047, -0.5725307075177288, '59.67%')])"
      ]
     },
     "execution_count": 8,
     "metadata": {},
     "output_type": "execute_result"
    },
    {
     "data": {
      "image/png": "[encoded data removed]",
      "text/plain": [
       "<Figure size 432x288 with 1 Axes>"
      ]
     },
     "metadata": {},
     "output_type": "display_data"
    }
   ],
   "source": [
    "delay=pd.DataFrame(dataset.groupby(['Reached.on.Time_Y.N'])['ID'].count()/len(dataset)).reset_index()\n",
    "plt.pie(delay['ID'],labels=delay['Reached.on.Time_Y.N'],autopct='%1.2f%%')"
   ]
  },
  {
   "cell_type": "markdown",
   "id": "informative-finland",
   "metadata": {
    "papermill": {
     "duration": 0.043096,
     "end_time": "2021-05-24T13:44:37.790338",
     "exception": false,
     "start_time": "2021-05-24T13:44:37.747242",
     "status": "completed"
    },
    "tags": []
   },
   "source": [
    "**Observations:**\n",
    "* 40% of the total deliveries are not reached on time"
   ]
  },
  {
   "cell_type": "markdown",
   "id": "alpha-fancy",
   "metadata": {
    "papermill": {
     "duration": 0.042924,
     "end_time": "2021-05-24T13:44:37.877526",
     "exception": false,
     "start_time": "2021-05-24T13:44:37.834602",
     "status": "completed"
    },
    "tags": []
   },
   "source": []
  },
  {
   "cell_type": "code",
   "execution_count": 9,
   "id": "bottom-transsexual",
   "metadata": {
    "execution": {
     "iopub.execute_input": "2021-05-24T13:44:37.973294Z",
     "iopub.status.busy": "2021-05-24T13:44:37.972369Z",
     "iopub.status.idle": "2021-05-24T13:44:37.977307Z",
     "shell.execute_reply": "2021-05-24T13:44:37.977781Z",
     "shell.execute_reply.started": "2021-05-24T12:40:29.2174Z"
    },
    "papermill": {
     "duration": 0.055605,
     "end_time": "2021-05-24T13:44:37.977957",
     "exception": false,
     "start_time": "2021-05-24T13:44:37.922352",
     "status": "completed"
    },
    "tags": []
   },
   "outputs": [],
   "source": [
    "data_v1 = dataset[dataset['Reached.on.Time_Y.N']==0]"
   ]
  },
  {
   "cell_type": "code",
   "execution_count": 10,
   "id": "built-princess",
   "metadata": {
    "execution": {
     "iopub.execute_input": "2021-05-24T13:44:38.071213Z",
     "iopub.status.busy": "2021-05-24T13:44:38.070103Z",
     "iopub.status.idle": "2021-05-24T13:44:38.229723Z",
     "shell.execute_reply": "2021-05-24T13:44:38.229090Z",
     "shell.execute_reply.started": "2021-05-24T12:40:29.230171Z"
    },
    "papermill": {
     "duration": 0.209352,
     "end_time": "2021-05-24T13:44:38.229864",
     "exception": false,
     "start_time": "2021-05-24T13:44:38.020512",
     "status": "completed"
    },
    "tags": []
   },
   "outputs": [
    {
     "data": {
      "text/plain": [
       "Text(0, 0.5, 'percentage')"
      ]
     },
     "execution_count": 10,
     "metadata": {},
     "output_type": "execute_result"
    },
    {
     "data": {
      "image/png": "[encoded data removed]",
      "text/plain": [
       "<Figure size 432x288 with 1 Axes>"
      ]
     },
     "metadata": {
      "needs_background": "light"
     },
     "output_type": "display_data"
    }
   ],
   "source": [
    "data_v2=pd.DataFrame((data_v1.groupby(['Mode_of_Shipment'])['ID'].count())/len(data_v1)*100)\n",
    "data_v2=data_v2.reset_index()\n",
    "visual=sns.barplot(x=\"Mode_of_Shipment\", y=\"ID\", data=data_v2 )\n",
    "for index, row in data_v2.iterrows():\n",
    "    visual.text(row.name,row.ID, round(row.ID,2), color='black', ha=\"center\")\n",
    "plt.title('Total number of delayed deliveries vs Shipment mode')\n",
    "plt.ylabel('percentage')"
   ]
  },
  {
   "cell_type": "markdown",
   "id": "residential-cookbook",
   "metadata": {
    "papermill": {
     "duration": 0.042964,
     "end_time": "2021-05-24T13:44:38.315870",
     "exception": false,
     "start_time": "2021-05-24T13:44:38.272906",
     "status": "completed"
    },
    "tags": []
   },
   "source": [
    "**Observations:**\n",
    "* Around 68% of the delayed deliveries are caused when ships are used as a mode of shipments. So, Alternate options like Flight and Road services might be considered to reduce the delayed deliveries "
   ]
  },
  {
   "cell_type": "code",
   "execution_count": 11,
   "id": "bizarre-district",
   "metadata": {
    "execution": {
     "iopub.execute_input": "2021-05-24T13:44:38.445132Z",
     "iopub.status.busy": "2021-05-24T13:44:38.410863Z",
     "iopub.status.idle": "2021-05-24T13:44:38.577464Z",
     "shell.execute_reply": "2021-05-24T13:44:38.576955Z",
     "shell.execute_reply.started": "2021-05-24T12:40:29.399315Z"
    },
    "papermill": {
     "duration": 0.217886,
     "end_time": "2021-05-24T13:44:38.577629",
     "exception": false,
     "start_time": "2021-05-24T13:44:38.359743",
     "status": "completed"
    },
    "tags": []
   },
   "outputs": [
    {
     "data": {
      "text/plain": [
       "Text(0, 0.5, 'percentage')"
      ]
     },
     "execution_count": 11,
     "metadata": {},
     "output_type": "execute_result"
    },
    {
     "data": {
      "image/png": "[encoded data removed]",
      "text/plain": [
       "<Figure size 432x288 with 1 Axes>"
      ]
     },
     "metadata": {
      "needs_background": "light"
     },
     "output_type": "display_data"
    }
   ],
   "source": [
    "data_v3=pd.DataFrame((data_v1.groupby(['Warehouse_block'])['ID'].count())/len(data_v1)*100)\n",
    "data_v3=data_v3.reset_index()\n",
    "visual=sns.barplot(x=\"Warehouse_block\", y=\"ID\", data=data_v3 )\n",
    "for index, row in data_v3.iterrows():\n",
    "    visual.text(row.name,row.ID, round(row.ID,2), color='black', ha=\"center\")\n",
    "plt.title('Total number of delayed deliveries vs Warehouse block')\n",
    "plt.ylabel('percentage')"
   ]
  },
  {
   "cell_type": "markdown",
   "id": "impaired-stranger",
   "metadata": {
    "papermill": {
     "duration": 0.043402,
     "end_time": "2021-05-24T13:44:38.664843",
     "exception": false,
     "start_time": "2021-05-24T13:44:38.621441",
     "status": "completed"
    },
    "tags": []
   },
   "source": [
    "**Observations**\n",
    "* Higher percent of delayed deliveries are recorded in Warehouse block F. For rest of the block,the percent of delayed deliveries are almost consistent"
   ]
  },
  {
   "cell_type": "code",
   "execution_count": 12,
   "id": "excess-engine",
   "metadata": {
    "execution": {
     "iopub.execute_input": "2021-05-24T13:44:38.760735Z",
     "iopub.status.busy": "2021-05-24T13:44:38.760039Z",
     "iopub.status.idle": "2021-05-24T13:44:38.937637Z",
     "shell.execute_reply": "2021-05-24T13:44:38.937008Z",
     "shell.execute_reply.started": "2021-05-24T12:40:29.569888Z"
    },
    "papermill": {
     "duration": 0.229238,
     "end_time": "2021-05-24T13:44:38.937778",
     "exception": false,
     "start_time": "2021-05-24T13:44:38.708540",
     "status": "completed"
    },
    "tags": []
   },
   "outputs": [
    {
     "data": {
      "text/plain": [
       "Text(0, 0.5, 'percentage')"
      ]
     },
     "execution_count": 12,
     "metadata": {},
     "output_type": "execute_result"
    },
    {
     "data": {
      "image/png": "[encoded data removed]",
      "text/plain": [
       "<Figure size 432x288 with 1 Axes>"
      ]
     },
     "metadata": {
      "needs_background": "light"
     },
     "output_type": "display_data"
    }
   ],
   "source": [
    "data_v4=pd.DataFrame((dataset.groupby(['Customer_rating'])['ID'].count())/len(dataset)*100)\n",
    "data_v4=data_v4.reset_index()\n",
    "visual=sns.barplot(x=\"Customer_rating\", y=\"ID\", data=data_v4 )\n",
    "for index, row in data_v4.iterrows():\n",
    "    visual.text(row.name,row.ID, round(row.ID,2), color='black', ha=\"center\")\n",
    "plt.title('Total percentages of different ratings')\n",
    "plt.ylabel('percentage')"
   ]
  },
  {
   "cell_type": "markdown",
   "id": "manual-software",
   "metadata": {
    "papermill": {
     "duration": 0.045124,
     "end_time": "2021-05-24T13:44:39.031100",
     "exception": false,
     "start_time": "2021-05-24T13:44:38.985976",
     "status": "completed"
    },
    "tags": []
   },
   "source": [
    "**Observations:**\n",
    "* The percentage of different ratings given by customers seems to same. Almost 20% of the total deliveries received 5 ratings"
   ]
  },
  {
   "cell_type": "markdown",
   "id": "subject-thirty",
   "metadata": {
    "papermill": {
     "duration": 0.046281,
     "end_time": "2021-05-24T13:44:39.122747",
     "exception": false,
     "start_time": "2021-05-24T13:44:39.076466",
     "status": "completed"
    },
    "tags": []
   },
   "source": []
  },
  {
   "cell_type": "code",
   "execution_count": 13,
   "id": "handy-argentina",
   "metadata": {
    "execution": {
     "iopub.execute_input": "2021-05-24T13:44:39.231124Z",
     "iopub.status.busy": "2021-05-24T13:44:39.230389Z",
     "iopub.status.idle": "2021-05-24T13:44:39.401295Z",
     "shell.execute_reply": "2021-05-24T13:44:39.400435Z",
     "shell.execute_reply.started": "2021-05-24T12:40:29.757123Z"
    },
    "papermill": {
     "duration": 0.232592,
     "end_time": "2021-05-24T13:44:39.401450",
     "exception": false,
     "start_time": "2021-05-24T13:44:39.168858",
     "status": "completed"
    },
    "tags": []
   },
   "outputs": [
    {
     "data": {
      "text/plain": [
       "Text(0.5, 1.0, 'Product importance by Reached on Time or Not')"
      ]
     },
     "execution_count": 13,
     "metadata": {},
     "output_type": "execute_result"
    },
    {
     "data": {
      "image/png": "[encoded data removed]",
      "text/plain": [
       "<Figure size 432x288 with 1 Axes>"
      ]
     },
     "metadata": {
      "needs_background": "light"
     },
     "output_type": "display_data"
    }
   ],
   "source": [
    "sns.countplot(x = \"Product_importance\", data = dataset, hue=\"Reached.on.Time_Y.N\")\n",
    "plt.title(\"Product importance by Reached on Time or Not\")"
   ]
  },
  {
   "cell_type": "markdown",
   "id": "behavioral-found",
   "metadata": {
    "papermill": {
     "duration": 0.048347,
     "end_time": "2021-05-24T13:44:39.496694",
     "exception": false,
     "start_time": "2021-05-24T13:44:39.448347",
     "status": "completed"
    },
    "tags": []
   },
   "source": [
    "**Observations:**\n",
    "* Higher number of deliveries falls under low product importance. Very less number of highly important products delivered. It means customers are ordering more number of low importance products from this ecommerce group"
   ]
  },
  {
   "cell_type": "code",
   "execution_count": 14,
   "id": "tested-workstation",
   "metadata": {
    "execution": {
     "iopub.execute_input": "2021-05-24T13:44:39.606821Z",
     "iopub.status.busy": "2021-05-24T13:44:39.605791Z",
     "iopub.status.idle": "2021-05-24T13:44:39.765707Z",
     "shell.execute_reply": "2021-05-24T13:44:39.766493Z",
     "shell.execute_reply.started": "2021-05-24T12:40:29.939182Z"
    },
    "papermill": {
     "duration": 0.22347,
     "end_time": "2021-05-24T13:44:39.766757",
     "exception": false,
     "start_time": "2021-05-24T13:44:39.543287",
     "status": "completed"
    },
    "tags": []
   },
   "outputs": [
    {
     "data": {
      "text/plain": [
       "Text(0.5, 1.0, 'Gender by Reached on Time or Not')"
      ]
     },
     "execution_count": 14,
     "metadata": {},
     "output_type": "execute_result"
    },
    {
     "data": {
      "image/png": "[encoded data removed]",
      "text/plain": [
       "<Figure size 432x288 with 1 Axes>"
      ]
     },
     "metadata": {
      "needs_background": "light"
     },
     "output_type": "display_data"
    }
   ],
   "source": [
    "sns.countplot(x = \"Gender\", data = dataset, hue=\"Reached.on.Time_Y.N\")\n",
    "plt.title(\"Gender by Reached on Time or Not\")"
   ]
  },
  {
   "cell_type": "code",
   "execution_count": 15,
   "id": "contained-butter",
   "metadata": {
    "execution": {
     "iopub.execute_input": "2021-05-24T13:44:39.899792Z",
     "iopub.status.busy": "2021-05-24T13:44:39.899124Z",
     "iopub.status.idle": "2021-05-24T13:44:40.070375Z",
     "shell.execute_reply": "2021-05-24T13:44:40.070872Z",
     "shell.execute_reply.started": "2021-05-24T12:40:30.104594Z"
    },
    "papermill": {
     "duration": 0.240218,
     "end_time": "2021-05-24T13:44:40.071057",
     "exception": false,
     "start_time": "2021-05-24T13:44:39.830839",
     "status": "completed"
    },
    "tags": []
   },
   "outputs": [
    {
     "data": {
      "text/plain": [
       "Text(0.5, 1.0, 'Warehouse block vs on Time or Not')"
      ]
     },
     "execution_count": 15,
     "metadata": {},
     "output_type": "execute_result"
    },
    {
     "data": {
      "image/png": "[encoded data removed]",
      "text/plain": [
       "<Figure size 432x288 with 1 Axes>"
      ]
     },
     "metadata": {
      "needs_background": "light"
     },
     "output_type": "display_data"
    }
   ],
   "source": [
    "sns.countplot(x = \"Warehouse_block\", data = dataset, hue=\"Reached.on.Time_Y.N\")\n",
    "plt.title(\"Warehouse block vs on Time or Not\")"
   ]
  },
  {
   "cell_type": "markdown",
   "id": "small-tournament",
   "metadata": {
    "papermill": {
     "duration": 0.048663,
     "end_time": "2021-05-24T13:44:40.168321",
     "exception": false,
     "start_time": "2021-05-24T13:44:40.119658",
     "status": "completed"
    },
    "tags": []
   },
   "source": [
    "**Observations:**\n",
    "* More number of deliveries were from Ware house block 'F'\n",
    "* For rest of the blocks, the pattern remains same"
   ]
  },
  {
   "cell_type": "code",
   "execution_count": 16,
   "id": "ideal-occupation",
   "metadata": {
    "execution": {
     "iopub.execute_input": "2021-05-24T13:44:40.268142Z",
     "iopub.status.busy": "2021-05-24T13:44:40.267461Z",
     "iopub.status.idle": "2021-05-24T13:44:40.462708Z",
     "shell.execute_reply": "2021-05-24T13:44:40.463216Z",
     "shell.execute_reply.started": "2021-05-24T12:40:30.294424Z"
    },
    "papermill": {
     "duration": 0.246699,
     "end_time": "2021-05-24T13:44:40.463394",
     "exception": false,
     "start_time": "2021-05-24T13:44:40.216695",
     "status": "completed"
    },
    "tags": []
   },
   "outputs": [
    {
     "data": {
      "text/plain": [
       "Text(0.5, 1.0, 'Customer ratings by Gender')"
      ]
     },
     "execution_count": 16,
     "metadata": {},
     "output_type": "execute_result"
    },
    {
     "data": {
      "image/png": "[encoded data removed]",
      "text/plain": [
       "<Figure size 432x288 with 1 Axes>"
      ]
     },
     "metadata": {
      "needs_background": "light"
     },
     "output_type": "display_data"
    }
   ],
   "source": [
    "sns.countplot(x = \"Customer_rating\", data = dataset, hue=\"Gender\")\n",
    "plt.title(\"Customer ratings by Gender\")"
   ]
  },
  {
   "cell_type": "code",
   "execution_count": 17,
   "id": "associate-consumer",
   "metadata": {
    "execution": {
     "iopub.execute_input": "2021-05-24T13:44:40.567110Z",
     "iopub.status.busy": "2021-05-24T13:44:40.566090Z",
     "iopub.status.idle": "2021-05-24T13:44:40.779428Z",
     "shell.execute_reply": "2021-05-24T13:44:40.778885Z",
     "shell.execute_reply.started": "2021-05-24T12:40:30.488657Z"
    },
    "papermill": {
     "duration": 0.26576,
     "end_time": "2021-05-24T13:44:40.779584",
     "exception": false,
     "start_time": "2021-05-24T13:44:40.513824",
     "status": "completed"
    },
    "tags": []
   },
   "outputs": [
    {
     "data": {
      "text/plain": [
       "Text(0.5, 1.0, 'Amount spent by each Gender')"
      ]
     },
     "execution_count": 17,
     "metadata": {},
     "output_type": "execute_result"
    },
    {
     "data": {
      "image/png": "[encoded data removed]",
      "text/plain": [
       "<Figure size 432x288 with 1 Axes>"
      ]
     },
     "metadata": {
      "needs_background": "light"
     },
     "output_type": "display_data"
    }
   ],
   "source": [
    "sns.boxplot(x='Gender',y='Cost_of_the_Product',data=dataset,hue='Gender')\n",
    "plt.title(\"Amount spent by each Gender\")"
   ]
  },
  {
   "cell_type": "markdown",
   "id": "threaded-shanghai",
   "metadata": {
    "papermill": {
     "duration": 0.050228,
     "end_time": "2021-05-24T13:44:40.880465",
     "exception": false,
     "start_time": "2021-05-24T13:44:40.830237",
     "status": "completed"
    },
    "tags": []
   },
   "source": [
    "**Observations**\n",
    "* Both men and women seems to spend same level of amount on average while purchasing a product "
   ]
  },
  {
   "cell_type": "code",
   "execution_count": 18,
   "id": "labeled-ratio",
   "metadata": {
    "execution": {
     "iopub.execute_input": "2021-05-24T13:44:40.988679Z",
     "iopub.status.busy": "2021-05-24T13:44:40.987710Z",
     "iopub.status.idle": "2021-05-24T13:44:41.154397Z",
     "shell.execute_reply": "2021-05-24T13:44:41.154931Z",
     "shell.execute_reply.started": "2021-05-24T12:40:30.695668Z"
    },
    "papermill": {
     "duration": 0.224173,
     "end_time": "2021-05-24T13:44:41.155108",
     "exception": false,
     "start_time": "2021-05-24T13:44:40.930935",
     "status": "completed"
    },
    "tags": []
   },
   "outputs": [
    {
     "data": {
      "text/plain": [
       "Text(0.5, 1.0, 'Average cost of products of different importance')"
      ]
     },
     "execution_count": 18,
     "metadata": {},
     "output_type": "execute_result"
    },
    {
     "data": {
      "image/png": "[encoded data removed]",
      "text/plain": [
       "<Figure size 432x288 with 1 Axes>"
      ]
     },
     "metadata": {
      "needs_background": "light"
     },
     "output_type": "display_data"
    }
   ],
   "source": [
    "dataset.groupby(['Product_importance'])['Cost_of_the_Product'].mean().plot.bar()\n",
    "plt.title(\"Average cost of products of different importance\")"
   ]
  },
  {
   "cell_type": "markdown",
   "id": "armed-reform",
   "metadata": {
    "papermill": {
     "duration": 0.051049,
     "end_time": "2021-05-24T13:44:41.257761",
     "exception": false,
     "start_time": "2021-05-24T13:44:41.206712",
     "status": "completed"
    },
    "tags": []
   },
   "source": [
    "**Observations:**\n",
    "* The average value of higher importance is slightly lesser than both low and high importance products. So, the product importance is not assigned based on the monetory value\n",
    "* Overall there isnt much variation in the features"
   ]
  },
  {
   "cell_type": "code",
   "execution_count": 19,
   "id": "blond-maple",
   "metadata": {
    "execution": {
     "iopub.execute_input": "2021-05-24T13:44:41.364859Z",
     "iopub.status.busy": "2021-05-24T13:44:41.364219Z",
     "iopub.status.idle": "2021-05-24T13:44:41.379912Z",
     "shell.execute_reply": "2021-05-24T13:44:41.379276Z",
     "shell.execute_reply.started": "2021-05-24T12:40:30.871161Z"
    },
    "papermill": {
     "duration": 0.070382,
     "end_time": "2021-05-24T13:44:41.380060",
     "exception": false,
     "start_time": "2021-05-24T13:44:41.309678",
     "status": "completed"
    },
    "tags": []
   },
   "outputs": [
    {
     "data": {
      "text/html": [
       "<div>\n",
       "<style scoped>\n",
       "    .dataframe tbody tr th:only-of-type {\n",
       "        vertical-align: middle;\n",
       "    }\n",
       "\n",
       "    .dataframe tbody tr th {\n",
       "        vertical-align: top;\n",
       "    }\n",
       "\n",
       "    .dataframe thead th {\n",
       "        text-align: right;\n",
       "    }\n",
       "</style>\n",
       "<table border=\"1\" class=\"dataframe\">\n",
       "  <thead>\n",
       "    <tr style=\"text-align: right;\">\n",
       "      <th></th>\n",
       "      <th>ID</th>\n",
       "      <th>Warehouse_block</th>\n",
       "      <th>Mode_of_Shipment</th>\n",
       "      <th>Customer_care_calls</th>\n",
       "      <th>Customer_rating</th>\n",
       "      <th>Cost_of_the_Product</th>\n",
       "      <th>Prior_purchases</th>\n",
       "      <th>Product_importance</th>\n",
       "      <th>Gender</th>\n",
       "      <th>Discount_offered</th>\n",
       "      <th>Weight_in_gms</th>\n",
       "      <th>Reached.on.Time_Y.N</th>\n",
       "    </tr>\n",
       "  </thead>\n",
       "  <tbody>\n",
       "    <tr>\n",
       "      <th>0</th>\n",
       "      <td>1</td>\n",
       "      <td>D</td>\n",
       "      <td>Flight</td>\n",
       "      <td>4</td>\n",
       "      <td>2</td>\n",
       "      <td>177</td>\n",
       "      <td>3</td>\n",
       "      <td>low</td>\n",
       "      <td>F</td>\n",
       "      <td>44</td>\n",
       "      <td>1233</td>\n",
       "      <td>1</td>\n",
       "    </tr>\n",
       "    <tr>\n",
       "      <th>1</th>\n",
       "      <td>2</td>\n",
       "      <td>F</td>\n",
       "      <td>Flight</td>\n",
       "      <td>4</td>\n",
       "      <td>5</td>\n",
       "      <td>216</td>\n",
       "      <td>2</td>\n",
       "      <td>low</td>\n",
       "      <td>M</td>\n",
       "      <td>59</td>\n",
       "      <td>3088</td>\n",
       "      <td>1</td>\n",
       "    </tr>\n",
       "    <tr>\n",
       "      <th>2</th>\n",
       "      <td>3</td>\n",
       "      <td>A</td>\n",
       "      <td>Flight</td>\n",
       "      <td>2</td>\n",
       "      <td>2</td>\n",
       "      <td>183</td>\n",
       "      <td>4</td>\n",
       "      <td>low</td>\n",
       "      <td>M</td>\n",
       "      <td>48</td>\n",
       "      <td>3374</td>\n",
       "      <td>1</td>\n",
       "    </tr>\n",
       "    <tr>\n",
       "      <th>3</th>\n",
       "      <td>4</td>\n",
       "      <td>B</td>\n",
       "      <td>Flight</td>\n",
       "      <td>3</td>\n",
       "      <td>3</td>\n",
       "      <td>176</td>\n",
       "      <td>4</td>\n",
       "      <td>medium</td>\n",
       "      <td>M</td>\n",
       "      <td>10</td>\n",
       "      <td>1177</td>\n",
       "      <td>1</td>\n",
       "    </tr>\n",
       "    <tr>\n",
       "      <th>4</th>\n",
       "      <td>5</td>\n",
       "      <td>C</td>\n",
       "      <td>Flight</td>\n",
       "      <td>2</td>\n",
       "      <td>2</td>\n",
       "      <td>184</td>\n",
       "      <td>3</td>\n",
       "      <td>medium</td>\n",
       "      <td>F</td>\n",
       "      <td>46</td>\n",
       "      <td>2484</td>\n",
       "      <td>1</td>\n",
       "    </tr>\n",
       "  </tbody>\n",
       "</table>\n",
       "</div>"
      ],
      "text/plain": [
       "   ID Warehouse_block Mode_of_Shipment  Customer_care_calls  Customer_rating  \\\n",
       "0   1               D           Flight                    4                2   \n",
       "1   2               F           Flight                    4                5   \n",
       "2   3               A           Flight                    2                2   \n",
       "3   4               B           Flight                    3                3   \n",
       "4   5               C           Flight                    2                2   \n",
       "\n",
       "   Cost_of_the_Product  Prior_purchases Product_importance Gender  \\\n",
       "0                  177                3                low      F   \n",
       "1                  216                2                low      M   \n",
       "2                  183                4                low      M   \n",
       "3                  176                4             medium      M   \n",
       "4                  184                3             medium      F   \n",
       "\n",
       "   Discount_offered  Weight_in_gms  Reached.on.Time_Y.N  \n",
       "0                44           1233                    1  \n",
       "1                59           3088                    1  \n",
       "2                48           3374                    1  \n",
       "3                10           1177                    1  \n",
       "4                46           2484                    1  "
      ]
     },
     "execution_count": 19,
     "metadata": {},
     "output_type": "execute_result"
    }
   ],
   "source": [
    "dataset.head()"
   ]
  },
  {
   "cell_type": "code",
   "execution_count": 20,
   "id": "domestic-trunk",
   "metadata": {
    "execution": {
     "iopub.execute_input": "2021-05-24T13:44:41.492775Z",
     "iopub.status.busy": "2021-05-24T13:44:41.491771Z",
     "iopub.status.idle": "2021-05-24T13:44:41.980908Z",
     "shell.execute_reply": "2021-05-24T13:44:41.980291Z",
     "shell.execute_reply.started": "2021-05-24T12:40:30.889664Z"
    },
    "papermill": {
     "duration": 0.547186,
     "end_time": "2021-05-24T13:44:41.981077",
     "exception": false,
     "start_time": "2021-05-24T13:44:41.433891",
     "status": "completed"
    },
    "tags": []
   },
   "outputs": [
    {
     "name": "stderr",
     "output_type": "stream",
     "text": [
      "/opt/conda/lib/python3.7/site-packages/pandas/plotting/_matplotlib/tools.py:400: MatplotlibDeprecationWarning: \n",
      "The is_first_col function was deprecated in Matplotlib 3.4 and will be removed two minor releases later. Use ax.get_subplotspec().is_first_col() instead.\n",
      "  if ax.is_first_col():\n"
     ]
    },
    {
     "data": {
      "text/plain": [
       "array([[<AxesSubplot:title={'center':'Cost_of_the_Product'}>,\n",
       "        <AxesSubplot:title={'center':'Prior_purchases'}>],\n",
       "       [<AxesSubplot:title={'center':'Discount_offered'}>,\n",
       "        <AxesSubplot:title={'center':'Weight_in_gms'}>]], dtype=object)"
      ]
     },
     "execution_count": 20,
     "metadata": {},
     "output_type": "execute_result"
    },
    {
     "data": {
      "image/png": "[encoded data removed]",
      "text/plain": [
       "<Figure size 432x288 with 4 Axes>"
      ]
     },
     "metadata": {
      "needs_background": "light"
     },
     "output_type": "display_data"
    }
   ],
   "source": [
    "dataset[['Cost_of_the_Product','Prior_purchases','Discount_offered','Weight_in_gms']].hist()\n"
   ]
  },
  {
   "cell_type": "markdown",
   "id": "individual-student",
   "metadata": {
    "papermill": {
     "duration": 0.057544,
     "end_time": "2021-05-24T13:44:42.093411",
     "exception": false,
     "start_time": "2021-05-24T13:44:42.035867",
     "status": "completed"
    },
    "tags": []
   },
   "source": [
    "**Observations**\n",
    "* 'Discount_offered' is positively skewed\n",
    "* Even 'prior purchase' is also positively skewed"
   ]
  },
  {
   "cell_type": "code",
   "execution_count": 21,
   "id": "addressed-happening",
   "metadata": {
    "execution": {
     "iopub.execute_input": "2021-05-24T13:44:42.207342Z",
     "iopub.status.busy": "2021-05-24T13:44:42.206336Z",
     "iopub.status.idle": "2021-05-24T13:44:42.783735Z",
     "shell.execute_reply": "2021-05-24T13:44:42.784333Z",
     "shell.execute_reply.started": "2021-05-24T12:40:31.352901Z"
    },
    "papermill": {
     "duration": 0.636109,
     "end_time": "2021-05-24T13:44:42.784512",
     "exception": false,
     "start_time": "2021-05-24T13:44:42.148403",
     "status": "completed"
    },
    "tags": []
   },
   "outputs": [
    {
     "data": {
      "text/plain": [
       "<AxesSubplot:>"
      ]
     },
     "execution_count": 21,
     "metadata": {},
     "output_type": "execute_result"
    },
    {
     "data": {
      "image/png": "[encoded data removed]",
      "text/plain": [
       "<Figure size 432x288 with 2 Axes>"
      ]
     },
     "metadata": {
      "needs_background": "light"
     },
     "output_type": "display_data"
    }
   ],
   "source": [
    "corr = dataset.corr()\n",
    "sns.heatmap(corr, cmap=\"Blues\", annot=True)"
   ]
  },
  {
   "cell_type": "markdown",
   "id": "compact-canberra",
   "metadata": {
    "papermill": {
     "duration": 0.055681,
     "end_time": "2021-05-24T13:44:42.896931",
     "exception": false,
     "start_time": "2021-05-24T13:44:42.841250",
     "status": "completed"
    },
    "tags": []
   },
   "source": [
    "**Observations:**\n",
    "*  There is a slight positive correlation between 'cost of products' and 'customer care calls'"
   ]
  },
  {
   "cell_type": "markdown",
   "id": "dental-hampton",
   "metadata": {
    "papermill": {
     "duration": 0.056209,
     "end_time": "2021-05-24T13:44:43.009056",
     "exception": false,
     "start_time": "2021-05-24T13:44:42.952847",
     "status": "completed"
    },
    "tags": []
   },
   "source": [
    "# Data preparation"
   ]
  },
  {
   "cell_type": "code",
   "execution_count": 22,
   "id": "frozen-ceremony",
   "metadata": {
    "execution": {
     "iopub.execute_input": "2021-05-24T13:44:43.127181Z",
     "iopub.status.busy": "2021-05-24T13:44:43.126134Z",
     "iopub.status.idle": "2021-05-24T13:44:43.144762Z",
     "shell.execute_reply": "2021-05-24T13:44:43.145239Z",
     "shell.execute_reply.started": "2021-05-24T12:40:31.923027Z"
    },
    "papermill": {
     "duration": 0.080018,
     "end_time": "2021-05-24T13:44:43.145426",
     "exception": false,
     "start_time": "2021-05-24T13:44:43.065408",
     "status": "completed"
    },
    "tags": []
   },
   "outputs": [
    {
     "data": {
      "text/html": [
       "<div>\n",
       "<style scoped>\n",
       "    .dataframe tbody tr th:only-of-type {\n",
       "        vertical-align: middle;\n",
       "    }\n",
       "\n",
       "    .dataframe tbody tr th {\n",
       "        vertical-align: top;\n",
       "    }\n",
       "\n",
       "    .dataframe thead th {\n",
       "        text-align: right;\n",
       "    }\n",
       "</style>\n",
       "<table border=\"1\" class=\"dataframe\">\n",
       "  <thead>\n",
       "    <tr style=\"text-align: right;\">\n",
       "      <th></th>\n",
       "      <th>Warehouse_block</th>\n",
       "      <th>Mode_of_Shipment</th>\n",
       "      <th>Customer_care_calls</th>\n",
       "      <th>Customer_rating</th>\n",
       "      <th>Cost_of_the_Product</th>\n",
       "      <th>Prior_purchases</th>\n",
       "      <th>Product_importance</th>\n",
       "      <th>Gender</th>\n",
       "      <th>Discount_offered</th>\n",
       "      <th>Weight_in_gms</th>\n",
       "      <th>Reached.on.Time_Y.N</th>\n",
       "    </tr>\n",
       "  </thead>\n",
       "  <tbody>\n",
       "    <tr>\n",
       "      <th>0</th>\n",
       "      <td>D</td>\n",
       "      <td>Flight</td>\n",
       "      <td>4</td>\n",
       "      <td>2</td>\n",
       "      <td>177</td>\n",
       "      <td>3</td>\n",
       "      <td>low</td>\n",
       "      <td>F</td>\n",
       "      <td>44</td>\n",
       "      <td>1233</td>\n",
       "      <td>1</td>\n",
       "    </tr>\n",
       "    <tr>\n",
       "      <th>1</th>\n",
       "      <td>F</td>\n",
       "      <td>Flight</td>\n",
       "      <td>4</td>\n",
       "      <td>5</td>\n",
       "      <td>216</td>\n",
       "      <td>2</td>\n",
       "      <td>low</td>\n",
       "      <td>M</td>\n",
       "      <td>59</td>\n",
       "      <td>3088</td>\n",
       "      <td>1</td>\n",
       "    </tr>\n",
       "    <tr>\n",
       "      <th>2</th>\n",
       "      <td>A</td>\n",
       "      <td>Flight</td>\n",
       "      <td>2</td>\n",
       "      <td>2</td>\n",
       "      <td>183</td>\n",
       "      <td>4</td>\n",
       "      <td>low</td>\n",
       "      <td>M</td>\n",
       "      <td>48</td>\n",
       "      <td>3374</td>\n",
       "      <td>1</td>\n",
       "    </tr>\n",
       "    <tr>\n",
       "      <th>3</th>\n",
       "      <td>B</td>\n",
       "      <td>Flight</td>\n",
       "      <td>3</td>\n",
       "      <td>3</td>\n",
       "      <td>176</td>\n",
       "      <td>4</td>\n",
       "      <td>medium</td>\n",
       "      <td>M</td>\n",
       "      <td>10</td>\n",
       "      <td>1177</td>\n",
       "      <td>1</td>\n",
       "    </tr>\n",
       "    <tr>\n",
       "      <th>4</th>\n",
       "      <td>C</td>\n",
       "      <td>Flight</td>\n",
       "      <td>2</td>\n",
       "      <td>2</td>\n",
       "      <td>184</td>\n",
       "      <td>3</td>\n",
       "      <td>medium</td>\n",
       "      <td>F</td>\n",
       "      <td>46</td>\n",
       "      <td>2484</td>\n",
       "      <td>1</td>\n",
       "    </tr>\n",
       "  </tbody>\n",
       "</table>\n",
       "</div>"
      ],
      "text/plain": [
       "  Warehouse_block Mode_of_Shipment  Customer_care_calls  Customer_rating  \\\n",
       "0               D           Flight                    4                2   \n",
       "1               F           Flight                    4                5   \n",
       "2               A           Flight                    2                2   \n",
       "3               B           Flight                    3                3   \n",
       "4               C           Flight                    2                2   \n",
       "\n",
       "   Cost_of_the_Product  Prior_purchases Product_importance Gender  \\\n",
       "0                  177                3                low      F   \n",
       "1                  216                2                low      M   \n",
       "2                  183                4                low      M   \n",
       "3                  176                4             medium      M   \n",
       "4                  184                3             medium      F   \n",
       "\n",
       "   Discount_offered  Weight_in_gms  Reached.on.Time_Y.N  \n",
       "0                44           1233                    1  \n",
       "1                59           3088                    1  \n",
       "2                48           3374                    1  \n",
       "3                10           1177                    1  \n",
       "4                46           2484                    1  "
      ]
     },
     "execution_count": 22,
     "metadata": {},
     "output_type": "execute_result"
    }
   ],
   "source": [
    "#Dropping the ID column because of high cardinality\n",
    "data=dataset.drop(['ID'],axis=1)\n",
    "data.head()"
   ]
  },
  {
   "cell_type": "markdown",
   "id": "cultural-harvard",
   "metadata": {
    "papermill": {
     "duration": 0.056329,
     "end_time": "2021-05-24T13:44:43.258065",
     "exception": false,
     "start_time": "2021-05-24T13:44:43.201736",
     "status": "completed"
    },
    "tags": []
   },
   "source": [
    "**Chi square test of independence**"
   ]
  },
  {
   "cell_type": "code",
   "execution_count": 23,
   "id": "designed-municipality",
   "metadata": {
    "execution": {
     "iopub.execute_input": "2021-05-24T13:44:43.375180Z",
     "iopub.status.busy": "2021-05-24T13:44:43.374118Z",
     "iopub.status.idle": "2021-05-24T13:44:43.406537Z",
     "shell.execute_reply": "2021-05-24T13:44:43.407278Z",
     "shell.execute_reply.started": "2021-05-24T12:40:31.947212Z"
    },
    "papermill": {
     "duration": 0.09273,
     "end_time": "2021-05-24T13:44:43.407508",
     "exception": false,
     "start_time": "2021-05-24T13:44:43.314778",
     "status": "completed"
    },
    "tags": []
   },
   "outputs": [
    {
     "name": "stdout",
     "output_type": "stream",
     "text": [
      "p-value  0.8959524278243698\n"
     ]
    }
   ],
   "source": [
    "#Warehouse_block\n",
    "crossTab = pd.crosstab(data['Warehouse_block'], data['Reached.on.Time_Y.N'])\n",
    "ChiSqResult = chi2_contingency(crossTab)\n",
    "print(\"p-value \",ChiSqResult[1])"
   ]
  },
  {
   "cell_type": "code",
   "execution_count": 24,
   "id": "complimentary-hepatitis",
   "metadata": {
    "execution": {
     "iopub.execute_input": "2021-05-24T13:44:43.528814Z",
     "iopub.status.busy": "2021-05-24T13:44:43.527440Z",
     "iopub.status.idle": "2021-05-24T13:44:43.546140Z",
     "shell.execute_reply": "2021-05-24T13:44:43.545536Z",
     "shell.execute_reply.started": "2021-05-24T12:40:31.985127Z"
    },
    "papermill": {
     "duration": 0.081797,
     "end_time": "2021-05-24T13:44:43.546280",
     "exception": false,
     "start_time": "2021-05-24T13:44:43.464483",
     "status": "completed"
    },
    "tags": []
   },
   "outputs": [
    {
     "name": "stdout",
     "output_type": "stream",
     "text": [
      "p-value  0.6895487627593786\n"
     ]
    }
   ],
   "source": [
    "#Warehouse_block\n",
    "crossTab = pd.crosstab(data['Mode_of_Shipment'],data['Reached.on.Time_Y.N'])\n",
    "ChiSqResult = chi2_contingency(crossTab)\n",
    "print(\"p-value \",ChiSqResult[1])"
   ]
  },
  {
   "cell_type": "code",
   "execution_count": 25,
   "id": "polar-india",
   "metadata": {
    "execution": {
     "iopub.execute_input": "2021-05-24T13:44:43.668531Z",
     "iopub.status.busy": "2021-05-24T13:44:43.667396Z",
     "iopub.status.idle": "2021-05-24T13:44:43.685985Z",
     "shell.execute_reply": "2021-05-24T13:44:43.685208Z",
     "shell.execute_reply.started": "2021-05-24T12:40:32.010742Z"
    },
    "papermill": {
     "duration": 0.082109,
     "end_time": "2021-05-24T13:44:43.686179",
     "exception": false,
     "start_time": "2021-05-24T13:44:43.604070",
     "status": "completed"
    },
    "tags": []
   },
   "outputs": [
    {
     "name": "stdout",
     "output_type": "stream",
     "text": [
      "p-value  0.002230383104745087\n"
     ]
    }
   ],
   "source": [
    "# Product_importance\n",
    "crossTab = pd.crosstab(data['Product_importance'],data['Reached.on.Time_Y.N'])\n",
    "ChiSqResult = chi2_contingency(crossTab)\n",
    "print(\"p-value \",ChiSqResult[1])"
   ]
  },
  {
   "cell_type": "code",
   "execution_count": 26,
   "id": "designing-stations",
   "metadata": {
    "execution": {
     "iopub.execute_input": "2021-05-24T13:44:43.808488Z",
     "iopub.status.busy": "2021-05-24T13:44:43.807819Z",
     "iopub.status.idle": "2021-05-24T13:44:43.823144Z",
     "shell.execute_reply": "2021-05-24T13:44:43.823720Z",
     "shell.execute_reply.started": "2021-05-24T12:40:32.033505Z"
    },
    "papermill": {
     "duration": 0.080315,
     "end_time": "2021-05-24T13:44:43.823967",
     "exception": false,
     "start_time": "2021-05-24T13:44:43.743652",
     "status": "completed"
    },
    "tags": []
   },
   "outputs": [
    {
     "name": "stdout",
     "output_type": "stream",
     "text": [
      "p-value  0.6367032124181522\n"
     ]
    }
   ],
   "source": [
    "# Gender\n",
    "crossTab = pd.crosstab(data['Gender'],data['Reached.on.Time_Y.N'])\n",
    "ChiSqResult = chi2_contingency(crossTab)\n",
    "print(\"p-value \",ChiSqResult[1])"
   ]
  },
  {
   "cell_type": "markdown",
   "id": "seventh-living",
   "metadata": {
    "papermill": {
     "duration": 0.057709,
     "end_time": "2021-05-24T13:44:43.939614",
     "exception": false,
     "start_time": "2021-05-24T13:44:43.881905",
     "status": "completed"
    },
    "tags": []
   },
   "source": [
    "**Observations:**\n",
    "* From chi square test, we can conclude that three of the independent categorical features are not related to the response variable beacause the p value is greater than 0.05. So, these features can be removed and only product importance feature can be included"
   ]
  },
  {
   "cell_type": "code",
   "execution_count": 27,
   "id": "comfortable-senator",
   "metadata": {
    "execution": {
     "iopub.execute_input": "2021-05-24T13:44:44.061714Z",
     "iopub.status.busy": "2021-05-24T13:44:44.061007Z",
     "iopub.status.idle": "2021-05-24T13:44:44.063690Z",
     "shell.execute_reply": "2021-05-24T13:44:44.063031Z",
     "shell.execute_reply.started": "2021-05-24T12:40:32.057413Z"
    },
    "papermill": {
     "duration": 0.066459,
     "end_time": "2021-05-24T13:44:44.063849",
     "exception": false,
     "start_time": "2021-05-24T13:44:43.997390",
     "status": "completed"
    },
    "tags": []
   },
   "outputs": [],
   "source": [
    "#Renaming the column Reached.on.Time_Y.N\n",
    "data.rename(columns={'Reached.on.Time_Y.N':'Reached on Time'}, inplace=True)"
   ]
  },
  {
   "cell_type": "code",
   "execution_count": 28,
   "id": "thousand-checkout",
   "metadata": {
    "execution": {
     "iopub.execute_input": "2021-05-24T13:44:44.189827Z",
     "iopub.status.busy": "2021-05-24T13:44:44.189052Z",
     "iopub.status.idle": "2021-05-24T13:44:44.207856Z",
     "shell.execute_reply": "2021-05-24T13:44:44.208317Z",
     "shell.execute_reply.started": "2021-05-24T12:40:32.067312Z"
    },
    "papermill": {
     "duration": 0.084646,
     "end_time": "2021-05-24T13:44:44.208496",
     "exception": false,
     "start_time": "2021-05-24T13:44:44.123850",
     "status": "completed"
    },
    "tags": []
   },
   "outputs": [
    {
     "data": {
      "text/html": [
       "<div>\n",
       "<style scoped>\n",
       "    .dataframe tbody tr th:only-of-type {\n",
       "        vertical-align: middle;\n",
       "    }\n",
       "\n",
       "    .dataframe tbody tr th {\n",
       "        vertical-align: top;\n",
       "    }\n",
       "\n",
       "    .dataframe thead th {\n",
       "        text-align: right;\n",
       "    }\n",
       "</style>\n",
       "<table border=\"1\" class=\"dataframe\">\n",
       "  <thead>\n",
       "    <tr style=\"text-align: right;\">\n",
       "      <th></th>\n",
       "      <th>Warehouse_block</th>\n",
       "      <th>Mode_of_Shipment</th>\n",
       "      <th>Customer_care_calls</th>\n",
       "      <th>Customer_rating</th>\n",
       "      <th>Cost_of_the_Product</th>\n",
       "      <th>Prior_purchases</th>\n",
       "      <th>Gender</th>\n",
       "      <th>Discount_offered</th>\n",
       "      <th>Weight_in_gms</th>\n",
       "      <th>Reached on Time</th>\n",
       "      <th>Product_importance_low</th>\n",
       "      <th>Product_importance_medium</th>\n",
       "    </tr>\n",
       "  </thead>\n",
       "  <tbody>\n",
       "    <tr>\n",
       "      <th>0</th>\n",
       "      <td>D</td>\n",
       "      <td>Flight</td>\n",
       "      <td>4</td>\n",
       "      <td>2</td>\n",
       "      <td>177</td>\n",
       "      <td>3</td>\n",
       "      <td>F</td>\n",
       "      <td>44</td>\n",
       "      <td>1233</td>\n",
       "      <td>1</td>\n",
       "      <td>1</td>\n",
       "      <td>0</td>\n",
       "    </tr>\n",
       "    <tr>\n",
       "      <th>1</th>\n",
       "      <td>F</td>\n",
       "      <td>Flight</td>\n",
       "      <td>4</td>\n",
       "      <td>5</td>\n",
       "      <td>216</td>\n",
       "      <td>2</td>\n",
       "      <td>M</td>\n",
       "      <td>59</td>\n",
       "      <td>3088</td>\n",
       "      <td>1</td>\n",
       "      <td>1</td>\n",
       "      <td>0</td>\n",
       "    </tr>\n",
       "    <tr>\n",
       "      <th>2</th>\n",
       "      <td>A</td>\n",
       "      <td>Flight</td>\n",
       "      <td>2</td>\n",
       "      <td>2</td>\n",
       "      <td>183</td>\n",
       "      <td>4</td>\n",
       "      <td>M</td>\n",
       "      <td>48</td>\n",
       "      <td>3374</td>\n",
       "      <td>1</td>\n",
       "      <td>1</td>\n",
       "      <td>0</td>\n",
       "    </tr>\n",
       "    <tr>\n",
       "      <th>3</th>\n",
       "      <td>B</td>\n",
       "      <td>Flight</td>\n",
       "      <td>3</td>\n",
       "      <td>3</td>\n",
       "      <td>176</td>\n",
       "      <td>4</td>\n",
       "      <td>M</td>\n",
       "      <td>10</td>\n",
       "      <td>1177</td>\n",
       "      <td>1</td>\n",
       "      <td>0</td>\n",
       "      <td>1</td>\n",
       "    </tr>\n",
       "    <tr>\n",
       "      <th>4</th>\n",
       "      <td>C</td>\n",
       "      <td>Flight</td>\n",
       "      <td>2</td>\n",
       "      <td>2</td>\n",
       "      <td>184</td>\n",
       "      <td>3</td>\n",
       "      <td>F</td>\n",
       "      <td>46</td>\n",
       "      <td>2484</td>\n",
       "      <td>1</td>\n",
       "      <td>0</td>\n",
       "      <td>1</td>\n",
       "    </tr>\n",
       "  </tbody>\n",
       "</table>\n",
       "</div>"
      ],
      "text/plain": [
       "  Warehouse_block Mode_of_Shipment  Customer_care_calls  Customer_rating  \\\n",
       "0               D           Flight                    4                2   \n",
       "1               F           Flight                    4                5   \n",
       "2               A           Flight                    2                2   \n",
       "3               B           Flight                    3                3   \n",
       "4               C           Flight                    2                2   \n",
       "\n",
       "   Cost_of_the_Product  Prior_purchases Gender  Discount_offered  \\\n",
       "0                  177                3      F                44   \n",
       "1                  216                2      M                59   \n",
       "2                  183                4      M                48   \n",
       "3                  176                4      M                10   \n",
       "4                  184                3      F                46   \n",
       "\n",
       "   Weight_in_gms  Reached on Time  Product_importance_low  \\\n",
       "0           1233                1                       1   \n",
       "1           3088                1                       1   \n",
       "2           3374                1                       1   \n",
       "3           1177                1                       0   \n",
       "4           2484                1                       0   \n",
       "\n",
       "   Product_importance_medium  \n",
       "0                          0  \n",
       "1                          0  \n",
       "2                          0  \n",
       "3                          1  \n",
       "4                          1  "
      ]
     },
     "execution_count": 28,
     "metadata": {},
     "output_type": "execute_result"
    }
   ],
   "source": [
    "data=pd.get_dummies(data,columns=['Product_importance'], drop_first=True)\n",
    "data.head()"
   ]
  },
  {
   "cell_type": "code",
   "execution_count": 29,
   "id": "polish-weight",
   "metadata": {
    "execution": {
     "iopub.execute_input": "2021-05-24T13:44:44.330479Z",
     "iopub.status.busy": "2021-05-24T13:44:44.329858Z",
     "iopub.status.idle": "2021-05-24T13:44:44.335880Z",
     "shell.execute_reply": "2021-05-24T13:44:44.335317Z",
     "shell.execute_reply.started": "2021-05-24T12:40:32.098849Z"
    },
    "papermill": {
     "duration": 0.06962,
     "end_time": "2021-05-24T13:44:44.336034",
     "exception": false,
     "start_time": "2021-05-24T13:44:44.266414",
     "status": "completed"
    },
    "tags": []
   },
   "outputs": [],
   "source": [
    "X=data.drop(['Reached on Time','Warehouse_block','Mode_of_Shipment','Gender'],axis=1)\n",
    "y=data['Reached on Time']"
   ]
  },
  {
   "cell_type": "code",
   "execution_count": 30,
   "id": "demanding-rebel",
   "metadata": {
    "execution": {
     "iopub.execute_input": "2021-05-24T13:44:44.463038Z",
     "iopub.status.busy": "2021-05-24T13:44:44.462024Z",
     "iopub.status.idle": "2021-05-24T13:44:44.475987Z",
     "shell.execute_reply": "2021-05-24T13:44:44.476451Z",
     "shell.execute_reply.started": "2021-05-24T12:40:32.110384Z"
    },
    "papermill": {
     "duration": 0.081294,
     "end_time": "2021-05-24T13:44:44.476649",
     "exception": false,
     "start_time": "2021-05-24T13:44:44.395355",
     "status": "completed"
    },
    "tags": []
   },
   "outputs": [],
   "source": [
    "#Splitting data into training and testing data\n",
    "X_train, X_test, y_train, y_test = train_test_split(X,y,test_size=0.2, random_state=42)\n",
    "\n",
    "#Scaling the data\n",
    "ms = MinMaxScaler()\n",
    "X_train = ms.fit_transform(X_train)\n",
    "X_test = ms.fit_transform(X_test)"
   ]
  },
  {
   "cell_type": "code",
   "execution_count": 31,
   "id": "constitutional-saint",
   "metadata": {
    "execution": {
     "iopub.execute_input": "2021-05-24T13:44:44.599073Z",
     "iopub.status.busy": "2021-05-24T13:44:44.598087Z",
     "iopub.status.idle": "2021-05-24T13:44:44.615506Z",
     "shell.execute_reply": "2021-05-24T13:44:44.616002Z",
     "shell.execute_reply.started": "2021-05-24T12:40:32.138172Z"
    },
    "papermill": {
     "duration": 0.079082,
     "end_time": "2021-05-24T13:44:44.616181",
     "exception": false,
     "start_time": "2021-05-24T13:44:44.537099",
     "status": "completed"
    },
    "tags": []
   },
   "outputs": [
    {
     "data": {
      "text/html": [
       "<div>\n",
       "<style scoped>\n",
       "    .dataframe tbody tr th:only-of-type {\n",
       "        vertical-align: middle;\n",
       "    }\n",
       "\n",
       "    .dataframe tbody tr th {\n",
       "        vertical-align: top;\n",
       "    }\n",
       "\n",
       "    .dataframe thead th {\n",
       "        text-align: right;\n",
       "    }\n",
       "</style>\n",
       "<table border=\"1\" class=\"dataframe\">\n",
       "  <thead>\n",
       "    <tr style=\"text-align: right;\">\n",
       "      <th></th>\n",
       "      <th>Customer_care_calls</th>\n",
       "      <th>Customer_rating</th>\n",
       "      <th>Cost_of_the_Product</th>\n",
       "      <th>Prior_purchases</th>\n",
       "      <th>Discount_offered</th>\n",
       "      <th>Weight_in_gms</th>\n",
       "      <th>Product_importance_low</th>\n",
       "      <th>Product_importance_medium</th>\n",
       "    </tr>\n",
       "  </thead>\n",
       "  <tbody>\n",
       "    <tr>\n",
       "      <th>0</th>\n",
       "      <td>0.2</td>\n",
       "      <td>1.0</td>\n",
       "      <td>0.383178</td>\n",
       "      <td>0.125</td>\n",
       "      <td>0.093750</td>\n",
       "      <td>0.457852</td>\n",
       "      <td>1.0</td>\n",
       "      <td>0.0</td>\n",
       "    </tr>\n",
       "    <tr>\n",
       "      <th>1</th>\n",
       "      <td>0.8</td>\n",
       "      <td>0.5</td>\n",
       "      <td>0.495327</td>\n",
       "      <td>0.250</td>\n",
       "      <td>0.031250</td>\n",
       "      <td>0.510592</td>\n",
       "      <td>0.0</td>\n",
       "      <td>1.0</td>\n",
       "    </tr>\n",
       "    <tr>\n",
       "      <th>2</th>\n",
       "      <td>0.0</td>\n",
       "      <td>1.0</td>\n",
       "      <td>0.845794</td>\n",
       "      <td>0.125</td>\n",
       "      <td>0.078125</td>\n",
       "      <td>0.004529</td>\n",
       "      <td>0.0</td>\n",
       "      <td>1.0</td>\n",
       "    </tr>\n",
       "    <tr>\n",
       "      <th>3</th>\n",
       "      <td>0.6</td>\n",
       "      <td>1.0</td>\n",
       "      <td>0.574766</td>\n",
       "      <td>0.000</td>\n",
       "      <td>0.046875</td>\n",
       "      <td>0.480351</td>\n",
       "      <td>0.0</td>\n",
       "      <td>1.0</td>\n",
       "    </tr>\n",
       "    <tr>\n",
       "      <th>4</th>\n",
       "      <td>0.8</td>\n",
       "      <td>0.5</td>\n",
       "      <td>0.934579</td>\n",
       "      <td>0.250</td>\n",
       "      <td>0.046875</td>\n",
       "      <td>0.094814</td>\n",
       "      <td>1.0</td>\n",
       "      <td>0.0</td>\n",
       "    </tr>\n",
       "  </tbody>\n",
       "</table>\n",
       "</div>"
      ],
      "text/plain": [
       "   Customer_care_calls  Customer_rating  Cost_of_the_Product  Prior_purchases  \\\n",
       "0                  0.2              1.0             0.383178            0.125   \n",
       "1                  0.8              0.5             0.495327            0.250   \n",
       "2                  0.0              1.0             0.845794            0.125   \n",
       "3                  0.6              1.0             0.574766            0.000   \n",
       "4                  0.8              0.5             0.934579            0.250   \n",
       "\n",
       "   Discount_offered  Weight_in_gms  Product_importance_low  \\\n",
       "0          0.093750       0.457852                     1.0   \n",
       "1          0.031250       0.510592                     0.0   \n",
       "2          0.078125       0.004529                     0.0   \n",
       "3          0.046875       0.480351                     0.0   \n",
       "4          0.046875       0.094814                     1.0   \n",
       "\n",
       "   Product_importance_medium  \n",
       "0                        0.0  \n",
       "1                        1.0  \n",
       "2                        1.0  \n",
       "3                        1.0  \n",
       "4                        0.0  "
      ]
     },
     "execution_count": 31,
     "metadata": {},
     "output_type": "execute_result"
    }
   ],
   "source": [
    "X_train = pd.DataFrame(X_train,columns=X.columns)\n",
    "X_test  =pd.DataFrame(X_test,columns=X.columns)\n",
    "X_train.head()"
   ]
  },
  {
   "cell_type": "markdown",
   "id": "experimental-transition",
   "metadata": {
    "papermill": {
     "duration": 0.060262,
     "end_time": "2021-05-24T13:44:44.735364",
     "exception": false,
     "start_time": "2021-05-24T13:44:44.675102",
     "status": "completed"
    },
    "tags": []
   },
   "source": [
    "**Support Vector Machine**"
   ]
  },
  {
   "cell_type": "code",
   "execution_count": 32,
   "id": "arranged-tackle",
   "metadata": {
    "execution": {
     "iopub.execute_input": "2021-05-24T13:44:44.860469Z",
     "iopub.status.busy": "2021-05-24T13:44:44.859470Z",
     "iopub.status.idle": "2021-05-24T13:44:49.244142Z",
     "shell.execute_reply": "2021-05-24T13:44:49.244618Z",
     "shell.execute_reply.started": "2021-05-24T12:40:32.157597Z"
    },
    "papermill": {
     "duration": 4.446583,
     "end_time": "2021-05-24T13:44:49.244802",
     "exception": false,
     "start_time": "2021-05-24T13:44:44.798219",
     "status": "completed"
    },
    "tags": []
   },
   "outputs": [
    {
     "name": "stdout",
     "output_type": "stream",
     "text": [
      "              precision    recall  f1-score   support\n",
      "\n",
      "           0       0.55      0.85      0.67       895\n",
      "           1       0.83      0.53      0.65      1305\n",
      "\n",
      "    accuracy                           0.66      2200\n",
      "   macro avg       0.69      0.69      0.66      2200\n",
      "weighted avg       0.72      0.66      0.66      2200\n",
      "\n"
     ]
    }
   ],
   "source": [
    "svm_model = svm.SVC(gamma='auto',C=5,kernel='rbf')\n",
    "svm_model.fit(X_train,y_train)\n",
    "y_pred = svm_model.predict(X_test)\n",
    "print(classification_report(y_test,y_pred))"
   ]
  },
  {
   "cell_type": "markdown",
   "id": "likely-orlando",
   "metadata": {
    "papermill": {
     "duration": 0.06004,
     "end_time": "2021-05-24T13:44:49.363530",
     "exception": false,
     "start_time": "2021-05-24T13:44:49.303490",
     "status": "completed"
    },
    "tags": []
   },
   "source": [
    "**Random Forest Classifier**"
   ]
  },
  {
   "cell_type": "code",
   "execution_count": 33,
   "id": "following-childhood",
   "metadata": {
    "execution": {
     "iopub.execute_input": "2021-05-24T13:44:49.488241Z",
     "iopub.status.busy": "2021-05-24T13:44:49.487063Z",
     "iopub.status.idle": "2021-05-24T13:45:15.082210Z",
     "shell.execute_reply": "2021-05-24T13:45:15.081603Z",
     "shell.execute_reply.started": "2021-05-24T12:40:36.569168Z"
    },
    "papermill": {
     "duration": 25.660233,
     "end_time": "2021-05-24T13:45:15.082374",
     "exception": false,
     "start_time": "2021-05-24T13:44:49.422141",
     "status": "completed"
    },
    "tags": []
   },
   "outputs": [
    {
     "name": "stdout",
     "output_type": "stream",
     "text": [
      "              precision    recall  f1-score   support\n",
      "\n",
      "           0       0.58      0.66      0.62       895\n",
      "           1       0.74      0.68      0.71      1305\n",
      "\n",
      "    accuracy                           0.67      2200\n",
      "   macro avg       0.66      0.67      0.66      2200\n",
      "weighted avg       0.68      0.67      0.67      2200\n",
      "\n"
     ]
    }
   ],
   "source": [
    "params = {'n_estimators':[100,150], 'criterion':['gini', 'entropy']}\n",
    "#Hyper parameter tuning\n",
    "rf_model =GridSearchCV(estimator=RandomForestClassifier(),param_grid=params,scoring='accuracy', cv=5)\n",
    "rf_model = rf_model.fit(X_train,y_train)\n",
    "y_pred=rf_model.predict(X_test)\n",
    "print(classification_report(y_test,y_pred))"
   ]
  },
  {
   "cell_type": "markdown",
   "id": "cathedral-start",
   "metadata": {
    "papermill": {
     "duration": 0.058851,
     "end_time": "2021-05-24T13:45:15.200619",
     "exception": false,
     "start_time": "2021-05-24T13:45:15.141768",
     "status": "completed"
    },
    "tags": []
   },
   "source": [
    "**Artificial Neural Network**"
   ]
  },
  {
   "cell_type": "code",
   "execution_count": 34,
   "id": "monthly-nutrition",
   "metadata": {
    "execution": {
     "iopub.execute_input": "2021-05-24T13:45:15.326391Z",
     "iopub.status.busy": "2021-05-24T13:45:15.325443Z",
     "iopub.status.idle": "2021-05-24T13:46:16.772198Z",
     "shell.execute_reply": "2021-05-24T13:46:16.771467Z",
     "shell.execute_reply.started": "2021-05-24T12:41:00.729495Z"
    },
    "papermill": {
     "duration": 61.512064,
     "end_time": "2021-05-24T13:46:16.772347",
     "exception": false,
     "start_time": "2021-05-24T13:45:15.260283",
     "status": "completed"
    },
    "tags": []
   },
   "outputs": [
    {
     "name": "stdout",
     "output_type": "stream",
     "text": [
      "Epoch 1/100\n",
      "587/587 [==============================] - 1s 1ms/step - loss: 0.6763 - accuracy: 0.5934\n",
      "Epoch 2/100\n",
      "587/587 [==============================] - 1s 1ms/step - loss: 0.6578 - accuracy: 0.6045\n",
      "Epoch 3/100\n",
      "587/587 [==============================] - 1s 1ms/step - loss: 0.6182 - accuracy: 0.6262\n",
      "Epoch 4/100\n",
      "587/587 [==============================] - 1s 1ms/step - loss: 0.5822 - accuracy: 0.6480\n",
      "Epoch 5/100\n",
      "587/587 [==============================] - 1s 1ms/step - loss: 0.5597 - accuracy: 0.6491\n",
      "Epoch 6/100\n",
      "587/587 [==============================] - 1s 1ms/step - loss: 0.5478 - accuracy: 0.6511\n",
      "Epoch 7/100\n",
      "587/587 [==============================] - 1s 1ms/step - loss: 0.5432 - accuracy: 0.6498\n",
      "Epoch 8/100\n",
      "587/587 [==============================] - 1s 1ms/step - loss: 0.5428 - accuracy: 0.6479\n",
      "Epoch 9/100\n",
      "587/587 [==============================] - 1s 1ms/step - loss: 0.5347 - accuracy: 0.6524\n",
      "Epoch 10/100\n",
      "587/587 [==============================] - 1s 1ms/step - loss: 0.5318 - accuracy: 0.6625\n",
      "Epoch 11/100\n",
      "587/587 [==============================] - 1s 1ms/step - loss: 0.5381 - accuracy: 0.6480\n",
      "Epoch 12/100\n",
      "587/587 [==============================] - 1s 1ms/step - loss: 0.5332 - accuracy: 0.6505\n",
      "Epoch 13/100\n",
      "587/587 [==============================] - 1s 983us/step - loss: 0.5244 - accuracy: 0.6503\n",
      "Epoch 14/100\n",
      "587/587 [==============================] - 1s 987us/step - loss: 0.5290 - accuracy: 0.6611\n",
      "Epoch 15/100\n",
      "587/587 [==============================] - 1s 1ms/step - loss: 0.5297 - accuracy: 0.6539\n",
      "Epoch 16/100\n",
      "587/587 [==============================] - 1s 1ms/step - loss: 0.5300 - accuracy: 0.6538\n",
      "Epoch 17/100\n",
      "587/587 [==============================] - 1s 990us/step - loss: 0.5217 - accuracy: 0.6625\n",
      "Epoch 18/100\n",
      "587/587 [==============================] - 1s 996us/step - loss: 0.5208 - accuracy: 0.6654\n",
      "Epoch 19/100\n",
      "587/587 [==============================] - 1s 1ms/step - loss: 0.5275 - accuracy: 0.6446\n",
      "Epoch 20/100\n",
      "587/587 [==============================] - 1s 1ms/step - loss: 0.5256 - accuracy: 0.6494\n",
      "Epoch 21/100\n",
      "587/587 [==============================] - 1s 1ms/step - loss: 0.5243 - accuracy: 0.6602\n",
      "Epoch 22/100\n",
      "587/587 [==============================] - 1s 1ms/step - loss: 0.5249 - accuracy: 0.6588\n",
      "Epoch 23/100\n",
      "587/587 [==============================] - 1s 1ms/step - loss: 0.5185 - accuracy: 0.6596\n",
      "Epoch 24/100\n",
      "587/587 [==============================] - 1s 1ms/step - loss: 0.5293 - accuracy: 0.6556\n",
      "Epoch 25/100\n",
      "587/587 [==============================] - 1s 1ms/step - loss: 0.5199 - accuracy: 0.6625\n",
      "Epoch 26/100\n",
      "587/587 [==============================] - 1s 1ms/step - loss: 0.5183 - accuracy: 0.6672\n",
      "Epoch 27/100\n",
      "587/587 [==============================] - 1s 1ms/step - loss: 0.5223 - accuracy: 0.6705\n",
      "Epoch 28/100\n",
      "587/587 [==============================] - 1s 1ms/step - loss: 0.5229 - accuracy: 0.6570\n",
      "Epoch 29/100\n",
      "587/587 [==============================] - 1s 1ms/step - loss: 0.5213 - accuracy: 0.6673\n",
      "Epoch 30/100\n",
      "587/587 [==============================] - 1s 1ms/step - loss: 0.5191 - accuracy: 0.6704\n",
      "Epoch 31/100\n",
      "587/587 [==============================] - 1s 1ms/step - loss: 0.5212 - accuracy: 0.6697\n",
      "Epoch 32/100\n",
      "587/587 [==============================] - 1s 1ms/step - loss: 0.5232 - accuracy: 0.6562\n",
      "Epoch 33/100\n",
      "587/587 [==============================] - 1s 1000us/step - loss: 0.5252 - accuracy: 0.6580\n",
      "Epoch 34/100\n",
      "587/587 [==============================] - 1s 1ms/step - loss: 0.5165 - accuracy: 0.6651\n",
      "Epoch 35/100\n",
      "587/587 [==============================] - 1s 1ms/step - loss: 0.5150 - accuracy: 0.6745\n",
      "Epoch 36/100\n",
      "587/587 [==============================] - 1s 1ms/step - loss: 0.5169 - accuracy: 0.6667\n",
      "Epoch 37/100\n",
      "587/587 [==============================] - 1s 976us/step - loss: 0.5281 - accuracy: 0.6661\n",
      "Epoch 38/100\n",
      "587/587 [==============================] - 1s 990us/step - loss: 0.5168 - accuracy: 0.6737\n",
      "Epoch 39/100\n",
      "587/587 [==============================] - 1s 968us/step - loss: 0.5230 - accuracy: 0.6614\n",
      "Epoch 40/100\n",
      "587/587 [==============================] - 1s 1ms/step - loss: 0.5204 - accuracy: 0.6637\n",
      "Epoch 41/100\n",
      "587/587 [==============================] - 1s 1ms/step - loss: 0.5154 - accuracy: 0.6666\n",
      "Epoch 42/100\n",
      "587/587 [==============================] - 1s 993us/step - loss: 0.5175 - accuracy: 0.6641\n",
      "Epoch 43/100\n",
      "587/587 [==============================] - 1s 994us/step - loss: 0.5113 - accuracy: 0.6705\n",
      "Epoch 44/100\n",
      "587/587 [==============================] - 1s 1ms/step - loss: 0.5310 - accuracy: 0.6533\n",
      "Epoch 45/100\n",
      "587/587 [==============================] - 1s 1ms/step - loss: 0.5242 - accuracy: 0.6525\n",
      "Epoch 46/100\n",
      "587/587 [==============================] - 1s 1ms/step - loss: 0.5219 - accuracy: 0.6692\n",
      "Epoch 47/100\n",
      "587/587 [==============================] - 1s 1ms/step - loss: 0.5214 - accuracy: 0.6734\n",
      "Epoch 48/100\n",
      "587/587 [==============================] - 1s 1ms/step - loss: 0.5216 - accuracy: 0.6728\n",
      "Epoch 49/100\n",
      "587/587 [==============================] - 1s 1ms/step - loss: 0.5159 - accuracy: 0.6654\n",
      "Epoch 50/100\n",
      "587/587 [==============================] - 1s 1ms/step - loss: 0.5176 - accuracy: 0.6729\n",
      "Epoch 51/100\n",
      "587/587 [==============================] - 1s 1ms/step - loss: 0.5163 - accuracy: 0.6667\n",
      "Epoch 52/100\n",
      "587/587 [==============================] - 1s 1ms/step - loss: 0.5202 - accuracy: 0.6582\n",
      "Epoch 53/100\n",
      "587/587 [==============================] - 1s 1ms/step - loss: 0.5178 - accuracy: 0.6718\n",
      "Epoch 54/100\n",
      "587/587 [==============================] - 1s 1ms/step - loss: 0.5143 - accuracy: 0.6666\n",
      "Epoch 55/100\n",
      "587/587 [==============================] - 1s 994us/step - loss: 0.5146 - accuracy: 0.6668\n",
      "Epoch 56/100\n",
      "587/587 [==============================] - 1s 1ms/step - loss: 0.5186 - accuracy: 0.6649\n",
      "Epoch 57/100\n",
      "587/587 [==============================] - 1s 1ms/step - loss: 0.5148 - accuracy: 0.6769\n",
      "Epoch 58/100\n",
      "587/587 [==============================] - 1s 986us/step - loss: 0.5150 - accuracy: 0.6764\n",
      "Epoch 59/100\n",
      "587/587 [==============================] - 1s 993us/step - loss: 0.5165 - accuracy: 0.6611\n",
      "Epoch 60/100\n",
      "587/587 [==============================] - 1s 1ms/step - loss: 0.5173 - accuracy: 0.6616\n",
      "Epoch 61/100\n",
      "587/587 [==============================] - 1s 1ms/step - loss: 0.5153 - accuracy: 0.6787\n",
      "Epoch 62/100\n",
      "587/587 [==============================] - 1s 1ms/step - loss: 0.5167 - accuracy: 0.6650\n",
      "Epoch 63/100\n",
      "587/587 [==============================] - 1s 1ms/step - loss: 0.5135 - accuracy: 0.6743\n",
      "Epoch 64/100\n",
      "587/587 [==============================] - 1s 1ms/step - loss: 0.5140 - accuracy: 0.6688\n",
      "Epoch 65/100\n",
      "587/587 [==============================] - 1s 1ms/step - loss: 0.5170 - accuracy: 0.6721\n",
      "Epoch 66/100\n",
      "587/587 [==============================] - 1s 995us/step - loss: 0.5159 - accuracy: 0.6735\n",
      "Epoch 67/100\n",
      "587/587 [==============================] - 1s 1ms/step - loss: 0.5160 - accuracy: 0.6758\n",
      "Epoch 68/100\n",
      "587/587 [==============================] - 1s 1ms/step - loss: 0.5197 - accuracy: 0.6714\n",
      "Epoch 69/100\n",
      "587/587 [==============================] - 1s 1ms/step - loss: 0.5123 - accuracy: 0.6776\n",
      "Epoch 70/100\n",
      "587/587 [==============================] - 1s 975us/step - loss: 0.5134 - accuracy: 0.6701\n",
      "Epoch 71/100\n",
      "587/587 [==============================] - 1s 999us/step - loss: 0.5135 - accuracy: 0.6728\n",
      "Epoch 72/100\n",
      "587/587 [==============================] - 1s 1ms/step - loss: 0.5126 - accuracy: 0.6655\n",
      "Epoch 73/100\n",
      "587/587 [==============================] - 1s 981us/step - loss: 0.5126 - accuracy: 0.6683\n",
      "Epoch 74/100\n",
      "587/587 [==============================] - 1s 1ms/step - loss: 0.5142 - accuracy: 0.6779\n",
      "Epoch 75/100\n",
      "587/587 [==============================] - 1s 1ms/step - loss: 0.5193 - accuracy: 0.6743\n",
      "Epoch 76/100\n",
      "587/587 [==============================] - 1s 971us/step - loss: 0.5110 - accuracy: 0.6757\n",
      "Epoch 77/100\n",
      "587/587 [==============================] - 1s 1ms/step - loss: 0.5126 - accuracy: 0.6707\n",
      "Epoch 78/100\n",
      "587/587 [==============================] - 1s 1ms/step - loss: 0.5161 - accuracy: 0.6692\n",
      "Epoch 79/100\n",
      "587/587 [==============================] - 1s 1ms/step - loss: 0.5179 - accuracy: 0.6681\n",
      "Epoch 80/100\n",
      "587/587 [==============================] - 1s 997us/step - loss: 0.5113 - accuracy: 0.6753\n",
      "Epoch 81/100\n",
      "587/587 [==============================] - 1s 1ms/step - loss: 0.5173 - accuracy: 0.6649\n",
      "Epoch 82/100\n",
      "587/587 [==============================] - 1s 1ms/step - loss: 0.5213 - accuracy: 0.6708\n",
      "Epoch 83/100\n",
      "587/587 [==============================] - 1s 1ms/step - loss: 0.5117 - accuracy: 0.6709\n",
      "Epoch 84/100\n",
      "587/587 [==============================] - 1s 1ms/step - loss: 0.5103 - accuracy: 0.6718\n",
      "Epoch 85/100\n",
      "587/587 [==============================] - 1s 1ms/step - loss: 0.5185 - accuracy: 0.6683\n",
      "Epoch 86/100\n",
      "587/587 [==============================] - 1s 1ms/step - loss: 0.5138 - accuracy: 0.6752\n",
      "Epoch 87/100\n",
      "587/587 [==============================] - 1s 1ms/step - loss: 0.5167 - accuracy: 0.6719\n",
      "Epoch 88/100\n",
      "587/587 [==============================] - 1s 1ms/step - loss: 0.5102 - accuracy: 0.6785\n",
      "Epoch 89/100\n",
      "587/587 [==============================] - 1s 1ms/step - loss: 0.5083 - accuracy: 0.6766\n",
      "Epoch 90/100\n",
      "587/587 [==============================] - 1s 1ms/step - loss: 0.5128 - accuracy: 0.6802\n",
      "Epoch 91/100\n",
      "587/587 [==============================] - 1s 1ms/step - loss: 0.5146 - accuracy: 0.6665\n",
      "Epoch 92/100\n",
      "587/587 [==============================] - 1s 1ms/step - loss: 0.5133 - accuracy: 0.6738\n",
      "Epoch 93/100\n",
      "587/587 [==============================] - 1s 1ms/step - loss: 0.5135 - accuracy: 0.6735\n",
      "Epoch 94/100\n",
      "587/587 [==============================] - 1s 1ms/step - loss: 0.5102 - accuracy: 0.6820\n",
      "Epoch 95/100\n",
      "587/587 [==============================] - 1s 999us/step - loss: 0.5132 - accuracy: 0.6793\n",
      "Epoch 96/100\n",
      "587/587 [==============================] - 1s 985us/step - loss: 0.5148 - accuracy: 0.6746\n",
      "Epoch 97/100\n",
      "587/587 [==============================] - 1s 1ms/step - loss: 0.5125 - accuracy: 0.6804\n",
      "Epoch 98/100\n",
      "587/587 [==============================] - 1s 980us/step - loss: 0.5049 - accuracy: 0.6810\n",
      "Epoch 99/100\n",
      "587/587 [==============================] - 1s 1ms/step - loss: 0.5070 - accuracy: 0.6910\n",
      "Epoch 100/100\n",
      "587/587 [==============================] - 1s 1ms/step - loss: 0.5153 - accuracy: 0.6702\n"
     ]
    },
    {
     "data": {
      "text/plain": [
       "<tensorflow.python.keras.callbacks.History at 0x7f33bc19b690>"
      ]
     },
     "execution_count": 34,
     "metadata": {},
     "output_type": "execute_result"
    }
   ],
   "source": [
    "ann = Sequential()\n",
    "ann.add(Dense(14,input_dim=8,activation='relu'))\n",
    "ann.add(Dense(8,activation='relu'))\n",
    "ann.add(Dense(8,activation='relu'))\n",
    "ann.add(Dense(1,activation='sigmoid'))\n",
    "ann.compile(loss=\"binary_crossentropy\", optimizer='SGD',metrics=['accuracy'])\n",
    "ann.fit(X_train, y_train, epochs=100, batch_size=15)"
   ]
  },
  {
   "cell_type": "code",
   "execution_count": 35,
   "id": "elder-throw",
   "metadata": {
    "execution": {
     "iopub.execute_input": "2021-05-24T13:46:17.698654Z",
     "iopub.status.busy": "2021-05-24T13:46:17.697632Z",
     "iopub.status.idle": "2021-05-24T13:46:17.865341Z",
     "shell.execute_reply": "2021-05-24T13:46:17.864701Z",
     "shell.execute_reply.started": "2021-05-24T12:42:03.725125Z"
    },
    "papermill": {
     "duration": 0.634228,
     "end_time": "2021-05-24T13:46:17.865476",
     "exception": false,
     "start_time": "2021-05-24T13:46:17.231248",
     "status": "completed"
    },
    "tags": []
   },
   "outputs": [
    {
     "name": "stdout",
     "output_type": "stream",
     "text": [
      "              precision    recall  f1-score   support\n",
      "\n",
      "           0       0.56      0.90      0.69       895\n",
      "           1       0.88      0.52      0.65      1305\n",
      "\n",
      "    accuracy                           0.67      2200\n",
      "   macro avg       0.72      0.71      0.67      2200\n",
      "weighted avg       0.75      0.67      0.67      2200\n",
      "\n"
     ]
    }
   ],
   "source": [
    "predictions = (ann.predict(X_test) > 0.5)\n",
    "print(classification_report(y_test,predictions))"
   ]
  },
  {
   "cell_type": "markdown",
   "id": "revised-holiday",
   "metadata": {
    "papermill": {
     "duration": 0.496292,
     "end_time": "2021-05-24T13:46:18.875012",
     "exception": false,
     "start_time": "2021-05-24T13:46:18.378720",
     "status": "completed"
    },
    "tags": []
   },
   "source": [
    "**Conclusion:**\n",
    "* ANN gives better accuracy of 67% than SVM and Random forest"
   ]
  }
 ],
 "metadata": {
  "kernelspec": {
   "display_name": "Python 3",
   "language": "python",
   "name": "python3"
  },
  "language_info": {
   "codemirror_mode": {
    "name": "ipython",
    "version": 3
   },
   "file_extension": ".py",
   "mimetype": "text/x-python",
   "name": "python",
   "nbconvert_exporter": "python",
   "pygments_lexer": "ipython3",
   "version": "3.7.10"
  },
  "papermill": {
   "default_parameters": {},
   "duration": 122.032616,
   "end_time": "2021-05-24T13:46:21.580867",
   "environment_variables": {},
   "exception": null,
   "input_path": "__notebook__.ipynb",
   "output_path": "__notebook__.ipynb",
   "parameters": {},
   "start_time": "2021-05-24T13:44:19.548251",
   "version": "2.3.3"
  }
 },
 "nbformat": 4,
 "nbformat_minor": 5
}
